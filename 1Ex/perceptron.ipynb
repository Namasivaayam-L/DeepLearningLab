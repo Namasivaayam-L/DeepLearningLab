{
 "cells": [
  {
   "cell_type": "code",
   "execution_count": 1,
   "metadata": {},
   "outputs": [
    {
     "ename": "ModuleNotFoundError",
     "evalue": "No module named 'sklearn'",
     "output_type": "error",
     "traceback": [
      "\u001b[1;31m---------------------------------------------------------------------------\u001b[0m",
      "\u001b[1;31mModuleNotFoundError\u001b[0m                       Traceback (most recent call last)",
      "Cell \u001b[1;32mIn[1], line 2\u001b[0m\n\u001b[0;32m      1\u001b[0m \u001b[39mimport\u001b[39;00m \u001b[39mtorch\u001b[39;00m\n\u001b[1;32m----> 2\u001b[0m \u001b[39mfrom\u001b[39;00m \u001b[39msklearn\u001b[39;00m \u001b[39mimport\u001b[39;00m datasets\n\u001b[0;32m      3\u001b[0m \u001b[39mfrom\u001b[39;00m \u001b[39msklearn\u001b[39;00m\u001b[39m.\u001b[39;00m\u001b[39mmodel_selection\u001b[39;00m \u001b[39mimport\u001b[39;00m train_test_split\n\u001b[0;32m      5\u001b[0m X, Y \u001b[39m=\u001b[39m datasets\u001b[39m.\u001b[39mload_breast_cancer(return_X_y\u001b[39m=\u001b[39m\u001b[39mTrue\u001b[39;00m)\n",
      "\u001b[1;31mModuleNotFoundError\u001b[0m: No module named 'sklearn'"
     ]
    }
   ],
   "source": [
    "import torch\n",
    "from sklearn import datasets\n",
    "from sklearn.model_selection import train_test_split\n",
    "\n",
    "X, Y = datasets.load_breast_cancer(return_X_y=True)\n",
    "\n",
    "X_train, X_test, Y_train, Y_test = train_test_split(X, Y, train_size=0.8, stratify=Y, random_state=123)\n",
    "\n",
    "X_train, X_test, Y_train, Y_test = torch.tensor(X_train, dtype=torch.float32),torch.tensor(X_test, dtype=torch.float32),torch.tensor(Y_train, dtype=torch.long),torch.tensor(Y_test, dtype=torch.long)\n",
    "\n",
    "samples, features = X_train.shape\n",
    "classes = Y_test.unique()\n",
    "print(features)\n",
    "print(X_train.shape, X_test.shape, Y_train.shape, Y_test.shape)\n",
    "\n",
    "mean = X_train.mean(axis=0)\n",
    "std = X_train.std(axis=0)\n",
    "\n",
    "X_train = (X_train - mean)/ std\n",
    "X_test = (X_test - mean)/ std\n",
    "from torch import nn\n",
    "\n",
    "class Classifier(nn.Module):\n",
    "    def __init__(self):\n",
    "        super(Classifier, self).__init__()\n",
    "        self.first_layer = nn.Linear(features, 5)\n",
    "        self.second_layer = nn.Linear(5, 7)\n",
    "        self.third_layer = nn.Linear(7, 14)\n",
    "        self.fourth_layer = nn.Linear(14, 28)\n",
    "        self.fifth_layer = nn.Linear(28, 14)\n",
    "        self.sixth_layer = nn.Linear(14,7)\n",
    "        self.seventh_layer = nn.Linear(7,5)\n",
    "        self.final_layer = nn.Linear(5,2)\n",
    "        self.relu = nn.ReLU()\n",
    "        self.softmax = nn.Softmax(dim=1)\n",
    "\n",
    "    def forward(self, X_batch):\n",
    "        layer_out = self.relu(self.first_layer(X_batch))\n",
    "        layer_out = self.relu(self.second_layer(layer_out))\n",
    "        layer_out = self.relu(self.third_layer(layer_out))\n",
    "        layer_out = self.relu(self.fourth_layer(layer_out))\n",
    "        layer_out = self.relu(self.fifth_layer(layer_out))\n",
    "        layer_out = self.relu(self.sixth_layer(layer_out))\n",
    "        layer_out = self.relu(self.seventh_layer(layer_out))\n",
    "\n",
    "        return self.softmax(self.final_layer(layer_out))\n",
    "classifier = Classifier()\n",
    "preds = classifier(X_train[:5])\n",
    "\n",
    "def TrainModel(model, loss_func, optimizer, X, Y, epochs=500):\n",
    "    for i in range(epochs):\n",
    "        preds = model(X) ## Make Predictions by forward pass through network\n",
    "        loss = loss_func(preds, Y) ## Calculate Loss\n",
    "        optimizer.zero_grad() ## Zero weights before calculating gradients\n",
    "        loss.backward() ## Calculate Gradients\n",
    "        optimizer.step() ## Update Weights\n",
    "        if i % 100 == 0: ## Print MSE every 100 epochs\n",
    "            print(\"NegLogLoss : {:.2f}\".format(loss))\n",
    "from torch.optim import SGD\n",
    "torch.manual_seed(42) ##For reproducibility.This will make sure that same random weights are initialized each time.\n",
    "epochs = 1500\n",
    "learning_rate = torch.tensor(1/1e2) # 0.01\n",
    "\n",
    "classifier = Classifier()\n",
    "nll_loss = nn.NLLLoss()\n",
    "optimizer = SGD(params=classifier.parameters(), lr=learning_rate)\n",
    "\n",
    "TrainModel(classifier, nll_loss, optimizer, X_train, Y_train, epochs=epochs)\n",
    "\n",
    "test_preds = classifier(X_test) ## Make Predictions on test dataset\n",
    "\n",
    "test_preds = torch.argmax(test_preds, axis=1) ## Convert Probabilities to class type\n",
    "\n",
    "train_preds = classifier(X_train) ## Make Predictions on train dataset\n",
    "\n",
    "train_preds = torch.argmax(train_preds, axis=1) ## Convert Probabilities to class type\n",
    "\n",
    "from sklearn.metrics import accuracy_score\n",
    "\n",
    "print(\"Train Accuracy : {:.2f}\".format(accuracy_score(Y_train, train_preds)))\n",
    "print(\"Test  Accuracy : {:.2f}\".format(accuracy_score(Y_test, test_preds)))\n",
    "\n",
    "from sklearn.metrics import classification_report\n",
    "\n",
    "print(\"Test Data Classification Report : \")\n",
    "print(classification_report(Y_test, test_preds))"
   ]
  }
 ],
 "metadata": {
  "kernelspec": {
   "display_name": "Python 3",
   "language": "python",
   "name": "python3"
  },
  "language_info": {
   "codemirror_mode": {
    "name": "ipython",
    "version": 3
   },
   "file_extension": ".py",
   "mimetype": "text/x-python",
   "name": "python",
   "nbconvert_exporter": "python",
   "pygments_lexer": "ipython3",
   "version": "3.10.6 (main, Nov 14 2022, 16:10:14) [GCC 11.3.0]"
  },
  "orig_nbformat": 4,
  "vscode": {
   "interpreter": {
    "hash": "916dbcbb3f70747c44a77c7bcd40155683ae19c65e1c03b4aa3499c5328201f1"
   }
  }
 },
 "nbformat": 4,
 "nbformat_minor": 2
}
