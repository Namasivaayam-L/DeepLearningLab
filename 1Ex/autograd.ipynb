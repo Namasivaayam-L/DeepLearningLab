{
 "cells": [
  {
   "cell_type": "code",
   "execution_count": 2,
   "metadata": {},
   "outputs": [
    {
     "name": "stdout",
     "output_type": "stream",
     "text": [
      "tensor([[5., 4.],\n",
      "        [7., 6.]], requires_grad=True)\n",
      "tensor([[3., 1.],\n",
      "        [7., 9.]], requires_grad=True)\n",
      "tensor(10901368., grad_fn=<SumBackward0>)\n",
      "tensor(7.)\n",
      "tensor(5., requires_grad=True)\n",
      "tensor(2., requires_grad=True)\n",
      "tensor(74., grad_fn=<AddBackward0>)\n"
     ]
    }
   ],
   "source": [
    "\n",
    "# Simple Autograd Implementation\n",
    "import torch\n",
    "from torch import *\n",
    "from torch.autograd import Variable\n",
    "mat1 = Variable(torch.Tensor([[5,4],[7,6]]),requires_grad=True)\n",
    "print(mat1)\n",
    "mat2 = Variable(torch.Tensor([[3,1],[7,9]]),requires_grad=True)\n",
    "print(mat2)\n",
    "# Matrix Squared To Another Matrix\n",
    "\n",
    "output_pred = torch.sum(mat1**mat2)\n",
    "print(output_pred)\n",
    "output_pred.backward()\n",
    "# Quadratic Equation\n",
    "\n",
    "x = torch.tensor(7., requires_grad = False)\n",
    "w = torch.tensor(5., requires_grad = True)\n",
    "b = torch.tensor(2., requires_grad = True)\n",
    "tensor(1., requires_grad=True)\n",
    "print(x)\n",
    "print(w)\n",
    "print(b)\n",
    "y = w**2 + x**b\n",
    "print(y)\n",
    "y.backward()"
   ]
  }
 ],
 "metadata": {
  "kernelspec": {
   "display_name": "base",
   "language": "python",
   "name": "python3"
  },
  "language_info": {
   "codemirror_mode": {
    "name": "ipython",
    "version": 3
   },
   "file_extension": ".py",
   "mimetype": "text/x-python",
   "name": "python",
   "nbconvert_exporter": "python",
   "pygments_lexer": "ipython3",
   "version": "3.9.12"
  },
  "orig_nbformat": 4,
  "vscode": {
   "interpreter": {
    "hash": "ce7a84d50acf3e31f2f26f4ab280fb48f5f865adcc25bdbc4b7dafb55ef5f989"
   }
  }
 },
 "nbformat": 4,
 "nbformat_minor": 2
}
