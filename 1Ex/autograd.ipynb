{
 "cells": [
  {
   "cell_type": "code",
   "execution_count": 24,
   "metadata": {},
   "outputs": [],
   "source": [
    "# import torch\n",
    "# import math\n",
    "# from torch.autograd import Variable\n",
    "# from torch.autograd import grad\n",
    "# a = torch.tensor([2., 3.], requires_grad=True)\n",
    "# b = torch.tensor([6., 4.], requires_grad=True)\n",
    "# Q = 3*a**3 - b**2\n",
    "# external_grad = torch.tensor([1., 1.])\n",
    "# Q.backward(gradient=external_grad)\n",
    "# # print(a.grad)\n",
    "# # print(b.grad)\n",
    "# # print(9*a**2 == a.grad)\n",
    "# # print(-2*b == b.grad)\n",
    "# x=torch.tensor([45.],requires_grad=True)\n",
    "# a = math.sin(x)\n",
    "# print(a.backward(gradient=external_grad))"
   ]
  },
  {
   "cell_type": "code",
   "execution_count": 32,
   "metadata": {},
   "outputs": [
    {
     "name": "stdout",
     "output_type": "stream",
     "text": [
      "tensor([0.8940], grad_fn=<SinBackward0>) tensor([-40.3266])\n"
     ]
    }
   ],
   "source": [
    "import math\n",
    "import torch\n",
    "import matplotlib.pyplot as plt\n",
    "\n",
    "# x = torch.linspace(-math.pi, math.pi, 5000, requires_grad=True)\n",
    "x=torch.tensor([90.0],requires_grad=True)\n",
    "y = torch.sin(x)\n",
    "y.backward(x)\n",
    "print(y,x.grad)\n",
    "# plt.plot(x.detach().numpy(), y.detach().numpy(), label='sin(x)')\n",
    "# plt.plot(x.detach().numpy(), x.grad.detach().numpy(), label='cos(x)') # print derivative of sin(x)\n",
    "# plt.show()"
   ]
  }
 ],
 "metadata": {
  "kernelspec": {
   "display_name": "base",
   "language": "python",
   "name": "python3"
  },
  "language_info": {
   "codemirror_mode": {
    "name": "ipython",
    "version": 3
   },
   "file_extension": ".py",
   "mimetype": "text/x-python",
   "name": "python",
   "nbconvert_exporter": "python",
   "pygments_lexer": "ipython3",
   "version": "3.9.12"
  },
  "orig_nbformat": 4,
  "vscode": {
   "interpreter": {
    "hash": "ce7a84d50acf3e31f2f26f4ab280fb48f5f865adcc25bdbc4b7dafb55ef5f989"
   }
  }
 },
 "nbformat": 4,
 "nbformat_minor": 2
}
