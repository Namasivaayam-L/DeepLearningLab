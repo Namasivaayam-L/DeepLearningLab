{
 "cells": [
  {
   "cell_type": "code",
   "execution_count": 2,
   "metadata": {
    "id": "DzzqwSXzOwbc"
   },
   "outputs": [],
   "source": [
    "import numpy\n",
    "import matplotlib.pyplot as plt\n",
    "import pandas\n",
    "import math\n",
    "from keras.models import Sequential\n",
    "from keras.layers import Dense\n",
    "from keras.layers import LSTM\n",
    "from sklearn.preprocessing import MinMaxScaler\n",
    "from sklearn.metrics import mean_squared_error"
   ]
  },
  {
   "cell_type": "code",
   "execution_count": 3,
   "metadata": {
    "colab": {
     "base_uri": "https://localhost:8080/"
    },
    "id": "2JLJ5B8YPy_8",
    "outputId": "83217485-9e20-4c60-e228-77b31f5818c5"
   },
   "outputs": [
    {
     "data": {
      "text/plain": [
       "(141, 1)"
      ]
     },
     "execution_count": 3,
     "metadata": {},
     "output_type": "execute_result"
    }
   ],
   "source": [
    "dataframe = pandas.read_csv('../Datasets/AirPassengers.csv', usecols=[1], engine='python', skipfooter=3)\n",
    "dataset = dataframe.values\n",
    "dataset = dataset.astype('float32')\n",
    "dataset.shape"
   ]
  },
  {
   "cell_type": "code",
   "execution_count": 4,
   "metadata": {
    "colab": {
     "base_uri": "https://localhost:8080/"
    },
    "id": "dfrMlxuPP5l1",
    "outputId": "1c7293b9-dc2e-4b24-b3a6-852116178045"
   },
   "outputs": [
    {
     "data": {
      "text/plain": [
       "(141, 1)"
      ]
     },
     "execution_count": 4,
     "metadata": {},
     "output_type": "execute_result"
    }
   ],
   "source": [
    "scaler = MinMaxScaler(feature_range=(0, 1))\n",
    "dataset = scaler.fit_transform(dataset)\n",
    "dataset.shape"
   ]
  },
  {
   "cell_type": "code",
   "execution_count": 5,
   "metadata": {
    "colab": {
     "base_uri": "https://localhost:8080/"
    },
    "id": "OKVEvGSkTVw5",
    "outputId": "35323473-9577-4329-d915-1b1bc9934463"
   },
   "outputs": [
    {
     "name": "stdout",
     "output_type": "stream",
     "text": [
      "94 47\n",
      "(94, 1)\n"
     ]
    },
    {
     "data": {
      "text/plain": [
       "(47, 1)"
      ]
     },
     "execution_count": 5,
     "metadata": {},
     "output_type": "execute_result"
    }
   ],
   "source": [
    "train_size = int(len(dataset) * 0.67)\n",
    "test_size = len(dataset) - train_size\n",
    "train, test = dataset[0:train_size,:], dataset[train_size:len(dataset),:]\n",
    "print(len(train), len(test))\n",
    "print(train.shape)\n",
    "test.shape"
   ]
  },
  {
   "cell_type": "code",
   "execution_count": 6,
   "metadata": {
    "id": "HvNsW0VoTYao"
   },
   "outputs": [],
   "source": [
    "def create_dataset(dataset, look_back=1):\n",
    "    dataX, dataY = [], []\n",
    "    c = 0\n",
    "    for i in range(len(dataset)-look_back-1):\n",
    "        a = dataset[i:(i+look_back), 0]\n",
    "        #print(a)\n",
    "        c+=1\n",
    "        dataX.append(a)\n",
    "        dataY.append(dataset[i + look_back, 0])\n",
    "    #print(c)\n",
    "    return numpy.array(dataX), numpy.array(dataY)\n"
   ]
  },
  {
   "cell_type": "code",
   "execution_count": 7,
   "metadata": {
    "colab": {
     "base_uri": "https://localhost:8080/"
    },
    "id": "LVorUlXaTb6V",
    "outputId": "eb94c8f6-f134-46f2-ef39-0966100fbade"
   },
   "outputs": [
    {
     "name": "stdout",
     "output_type": "stream",
     "text": [
      "(92, 1)\n",
      "(92,)\n",
      "(45, 1)\n",
      "(45,)\n"
     ]
    }
   ],
   "source": [
    "look_back = 1\n",
    "trainX, trainY = create_dataset(train, look_back)\n",
    "testX, testY = create_dataset(test, look_back)\n",
    "print(trainX.shape)\n",
    "print(trainY.shape)\n",
    "print(testX.shape)\n",
    "print(testY.shape)\n"
   ]
  },
  {
   "cell_type": "code",
   "execution_count": 8,
   "metadata": {
    "colab": {
     "base_uri": "https://localhost:8080/"
    },
    "id": "CzOU5Zk5ThEa",
    "outputId": "49817c42-736b-4d44-d302-e50536222b5f"
   },
   "outputs": [
    {
     "name": "stdout",
     "output_type": "stream",
     "text": [
      "(92, 1, 1)\n",
      "(92,)\n",
      "(45, 1, 1)\n",
      "(45,)\n"
     ]
    }
   ],
   "source": [
    "trainX = numpy.reshape(trainX, (trainX.shape[0], 1, trainX.shape[1]))\n",
    "testX = numpy.reshape(testX, (testX.shape[0], 1, testX.shape[1]))\n",
    "print(trainX.shape)\n",
    "print(trainY.shape)\n",
    "print(testX.shape)\n",
    "print(testY.shape)\n"
   ]
  },
  {
   "cell_type": "code",
   "execution_count": null,
   "metadata": {
    "colab": {
     "base_uri": "https://localhost:8080/"
    },
    "id": "D46nPICRTjoh",
    "outputId": "7c07c34e-0b8c-4ce6-af1c-61283e3a8fac"
   },
   "outputs": [
    {
     "name": "stderr",
     "output_type": "stream",
     "text": [
      "2023-04-19 11:17:10.485800: I tensorflow/compiler/xla/stream_executor/cuda/cuda_gpu_executor.cc:967] could not open file to read NUMA node: /sys/bus/pci/devices/0000:01:00.0/numa_node\n",
      "Your kernel may have been built without NUMA support.\n",
      "2023-04-19 11:17:10.531702: I tensorflow/compiler/xla/stream_executor/cuda/cuda_gpu_executor.cc:967] could not open file to read NUMA node: /sys/bus/pci/devices/0000:01:00.0/numa_node\n",
      "Your kernel may have been built without NUMA support.\n",
      "2023-04-19 11:17:10.531764: I tensorflow/compiler/xla/stream_executor/cuda/cuda_gpu_executor.cc:967] could not open file to read NUMA node: /sys/bus/pci/devices/0000:01:00.0/numa_node\n",
      "Your kernel may have been built without NUMA support.\n",
      "2023-04-19 11:17:10.532826: I tensorflow/core/platform/cpu_feature_guard.cc:193] This TensorFlow binary is optimized with oneAPI Deep Neural Network Library (oneDNN) to use the following CPU instructions in performance-critical operations:  AVX2 FMA\n",
      "To enable them in other operations, rebuild TensorFlow with the appropriate compiler flags.\n",
      "2023-04-19 11:17:10.536353: I tensorflow/compiler/xla/stream_executor/cuda/cuda_gpu_executor.cc:967] could not open file to read NUMA node: /sys/bus/pci/devices/0000:01:00.0/numa_node\n",
      "Your kernel may have been built without NUMA support.\n",
      "2023-04-19 11:17:10.536418: I tensorflow/compiler/xla/stream_executor/cuda/cuda_gpu_executor.cc:967] could not open file to read NUMA node: /sys/bus/pci/devices/0000:01:00.0/numa_node\n",
      "Your kernel may have been built without NUMA support.\n",
      "2023-04-19 11:17:10.536451: I tensorflow/compiler/xla/stream_executor/cuda/cuda_gpu_executor.cc:967] could not open file to read NUMA node: /sys/bus/pci/devices/0000:01:00.0/numa_node\n",
      "Your kernel may have been built without NUMA support.\n",
      "2023-04-19 11:17:11.945354: I tensorflow/compiler/xla/stream_executor/cuda/cuda_gpu_executor.cc:967] could not open file to read NUMA node: /sys/bus/pci/devices/0000:01:00.0/numa_node\n",
      "Your kernel may have been built without NUMA support.\n",
      "2023-04-19 11:17:11.946178: I tensorflow/compiler/xla/stream_executor/cuda/cuda_gpu_executor.cc:967] could not open file to read NUMA node: /sys/bus/pci/devices/0000:01:00.0/numa_node\n",
      "Your kernel may have been built without NUMA support.\n",
      "2023-04-19 11:17:11.946195: I tensorflow/core/common_runtime/gpu/gpu_device.cc:1700] Could not identify NUMA node of platform GPU id 0, defaulting to 0.  Your kernel may not have been built with NUMA support.\n",
      "2023-04-19 11:17:11.946239: I tensorflow/compiler/xla/stream_executor/cuda/cuda_gpu_executor.cc:967] could not open file to read NUMA node: /sys/bus/pci/devices/0000:01:00.0/numa_node\n",
      "Your kernel may have been built without NUMA support.\n",
      "2023-04-19 11:17:11.946786: I tensorflow/core/common_runtime/gpu/gpu_device.cc:1613] Created device /job:localhost/replica:0/task:0/device:GPU:0 with 2080 MB memory:  -> device: 0, name: NVIDIA GeForce GTX 1650, pci bus id: 0000:01:00.0, compute capability: 7.5\n"
     ]
    },
    {
     "name": "stdout",
     "output_type": "stream",
     "text": [
      "Epoch 1/100\n"
     ]
    },
    {
     "name": "stderr",
     "output_type": "stream",
     "text": [
      "2023-04-19 11:17:14.576443: I tensorflow/compiler/xla/stream_executor/cuda/cuda_dnn.cc:428] Loaded cuDNN version 8100\n",
      "2023-04-19 11:17:15.773191: I tensorflow/compiler/xla/service/service.cc:173] XLA service 0x7f7214f6a420 initialized for platform CUDA (this does not guarantee that XLA will be used). Devices:\n",
      "2023-04-19 11:17:15.773243: I tensorflow/compiler/xla/service/service.cc:181]   StreamExecutor device (0): NVIDIA GeForce GTX 1650, Compute Capability 7.5\n",
      "2023-04-19 11:17:15.806263: I tensorflow/compiler/mlir/tensorflow/utils/dump_mlir_util.cc:268] disabling MLIR crash reproducer, set env var `MLIR_CRASH_REPRODUCER_DIRECTORY` to enable.\n",
      "2023-04-19 11:17:16.105548: I tensorflow/tsl/platform/default/subprocess.cc:304] Start cannot spawn child process: No such file or directory\n",
      "2023-04-19 11:17:16.180006: I tensorflow/compiler/jit/xla_compilation_cache.cc:477] Compiled cluster using XLA!  This line is logged at most once for the lifetime of the process.\n"
     ]
    },
    {
     "name": "stdout",
     "output_type": "stream",
     "text": [
      "92/92 - 4s - loss: 0.0404 - accuracy: 0.0109 - 4s/epoch - 46ms/step\n",
      "Epoch 2/100\n",
      "92/92 - 0s - loss: 0.0199 - accuracy: 0.0109 - 437ms/epoch - 5ms/step\n",
      "Epoch 3/100\n",
      "92/92 - 0s - loss: 0.0150 - accuracy: 0.0109 - 423ms/epoch - 5ms/step\n",
      "Epoch 4/100\n",
      "92/92 - 0s - loss: 0.0136 - accuracy: 0.0109 - 413ms/epoch - 4ms/step\n",
      "Epoch 5/100\n",
      "92/92 - 0s - loss: 0.0127 - accuracy: 0.0109 - 415ms/epoch - 5ms/step\n",
      "Epoch 6/100\n",
      "92/92 - 0s - loss: 0.0118 - accuracy: 0.0109 - 445ms/epoch - 5ms/step\n",
      "Epoch 7/100\n",
      "92/92 - 0s - loss: 0.0108 - accuracy: 0.0109 - 432ms/epoch - 5ms/step\n",
      "Epoch 8/100\n",
      "92/92 - 0s - loss: 0.0099 - accuracy: 0.0109 - 427ms/epoch - 5ms/step\n",
      "Epoch 9/100\n",
      "92/92 - 0s - loss: 0.0088 - accuracy: 0.0109 - 434ms/epoch - 5ms/step\n",
      "Epoch 10/100\n",
      "92/92 - 0s - loss: 0.0079 - accuracy: 0.0109 - 428ms/epoch - 5ms/step\n",
      "Epoch 11/100\n",
      "92/92 - 0s - loss: 0.0071 - accuracy: 0.0109 - 468ms/epoch - 5ms/step\n",
      "Epoch 12/100\n",
      "92/92 - 0s - loss: 0.0062 - accuracy: 0.0109 - 440ms/epoch - 5ms/step\n",
      "Epoch 13/100\n",
      "92/92 - 0s - loss: 0.0053 - accuracy: 0.0109 - 423ms/epoch - 5ms/step\n",
      "Epoch 14/100\n",
      "92/92 - 0s - loss: 0.0046 - accuracy: 0.0109 - 474ms/epoch - 5ms/step\n",
      "Epoch 15/100\n",
      "92/92 - 0s - loss: 0.0040 - accuracy: 0.0109 - 478ms/epoch - 5ms/step\n",
      "Epoch 16/100\n",
      "92/92 - 0s - loss: 0.0034 - accuracy: 0.0109 - 441ms/epoch - 5ms/step\n",
      "Epoch 17/100\n",
      "92/92 - 0s - loss: 0.0030 - accuracy: 0.0109 - 443ms/epoch - 5ms/step\n",
      "Epoch 18/100\n",
      "92/92 - 0s - loss: 0.0027 - accuracy: 0.0109 - 463ms/epoch - 5ms/step\n",
      "Epoch 19/100\n",
      "92/92 - 0s - loss: 0.0025 - accuracy: 0.0109 - 440ms/epoch - 5ms/step\n",
      "Epoch 20/100\n",
      "92/92 - 0s - loss: 0.0024 - accuracy: 0.0109 - 459ms/epoch - 5ms/step\n",
      "Epoch 21/100\n",
      "92/92 - 0s - loss: 0.0022 - accuracy: 0.0109 - 465ms/epoch - 5ms/step\n",
      "Epoch 22/100\n",
      "92/92 - 0s - loss: 0.0021 - accuracy: 0.0109 - 478ms/epoch - 5ms/step\n",
      "Epoch 23/100\n",
      "92/92 - 0s - loss: 0.0021 - accuracy: 0.0109 - 450ms/epoch - 5ms/step\n",
      "Epoch 24/100\n",
      "92/92 - 0s - loss: 0.0020 - accuracy: 0.0109 - 487ms/epoch - 5ms/step\n",
      "Epoch 25/100\n",
      "92/92 - 0s - loss: 0.0020 - accuracy: 0.0109 - 481ms/epoch - 5ms/step\n",
      "Epoch 26/100\n",
      "92/92 - 0s - loss: 0.0020 - accuracy: 0.0109 - 470ms/epoch - 5ms/step\n",
      "Epoch 27/100\n",
      "92/92 - 0s - loss: 0.0020 - accuracy: 0.0109 - 490ms/epoch - 5ms/step\n",
      "Epoch 28/100\n",
      "92/92 - 0s - loss: 0.0020 - accuracy: 0.0109 - 450ms/epoch - 5ms/step\n",
      "Epoch 29/100\n",
      "92/92 - 0s - loss: 0.0020 - accuracy: 0.0109 - 437ms/epoch - 5ms/step\n",
      "Epoch 30/100\n",
      "92/92 - 0s - loss: 0.0020 - accuracy: 0.0109 - 453ms/epoch - 5ms/step\n",
      "Epoch 31/100\n",
      "92/92 - 0s - loss: 0.0021 - accuracy: 0.0109 - 406ms/epoch - 4ms/step\n",
      "Epoch 32/100\n",
      "92/92 - 0s - loss: 0.0020 - accuracy: 0.0109 - 413ms/epoch - 4ms/step\n",
      "Epoch 33/100\n",
      "92/92 - 0s - loss: 0.0019 - accuracy: 0.0109 - 407ms/epoch - 4ms/step\n",
      "Epoch 34/100\n",
      "92/92 - 0s - loss: 0.0020 - accuracy: 0.0109 - 434ms/epoch - 5ms/step\n",
      "Epoch 35/100\n",
      "92/92 - 0s - loss: 0.0019 - accuracy: 0.0109 - 454ms/epoch - 5ms/step\n",
      "Epoch 36/100\n",
      "92/92 - 0s - loss: 0.0020 - accuracy: 0.0109 - 456ms/epoch - 5ms/step\n",
      "Epoch 37/100\n",
      "92/92 - 0s - loss: 0.0020 - accuracy: 0.0109 - 500ms/epoch - 5ms/step\n",
      "Epoch 38/100\n",
      "92/92 - 0s - loss: 0.0020 - accuracy: 0.0109 - 418ms/epoch - 5ms/step\n",
      "Epoch 39/100\n",
      "92/92 - 0s - loss: 0.0020 - accuracy: 0.0109 - 435ms/epoch - 5ms/step\n",
      "Epoch 40/100\n",
      "92/92 - 0s - loss: 0.0020 - accuracy: 0.0109 - 457ms/epoch - 5ms/step\n",
      "Epoch 41/100\n",
      "92/92 - 0s - loss: 0.0020 - accuracy: 0.0109 - 461ms/epoch - 5ms/step\n",
      "Epoch 42/100\n",
      "92/92 - 0s - loss: 0.0019 - accuracy: 0.0109 - 422ms/epoch - 5ms/step\n",
      "Epoch 43/100\n",
      "92/92 - 0s - loss: 0.0020 - accuracy: 0.0109 - 406ms/epoch - 4ms/step\n",
      "Epoch 44/100\n",
      "92/92 - 0s - loss: 0.0020 - accuracy: 0.0109 - 413ms/epoch - 4ms/step\n",
      "Epoch 45/100\n",
      "92/92 - 0s - loss: 0.0020 - accuracy: 0.0109 - 436ms/epoch - 5ms/step\n",
      "Epoch 46/100\n",
      "92/92 - 0s - loss: 0.0020 - accuracy: 0.0109 - 438ms/epoch - 5ms/step\n",
      "Epoch 47/100\n",
      "92/92 - 0s - loss: 0.0020 - accuracy: 0.0109 - 457ms/epoch - 5ms/step\n",
      "Epoch 48/100\n",
      "92/92 - 0s - loss: 0.0019 - accuracy: 0.0109 - 463ms/epoch - 5ms/step\n",
      "Epoch 49/100\n",
      "92/92 - 0s - loss: 0.0020 - accuracy: 0.0109 - 448ms/epoch - 5ms/step\n",
      "Epoch 50/100\n",
      "92/92 - 0s - loss: 0.0020 - accuracy: 0.0109 - 424ms/epoch - 5ms/step\n",
      "Epoch 51/100\n",
      "92/92 - 0s - loss: 0.0020 - accuracy: 0.0109 - 424ms/epoch - 5ms/step\n",
      "Epoch 52/100\n",
      "92/92 - 0s - loss: 0.0020 - accuracy: 0.0109 - 416ms/epoch - 5ms/step\n",
      "Epoch 53/100\n",
      "92/92 - 0s - loss: 0.0020 - accuracy: 0.0109 - 407ms/epoch - 4ms/step\n",
      "Epoch 54/100\n",
      "92/92 - 0s - loss: 0.0019 - accuracy: 0.0109 - 416ms/epoch - 5ms/step\n",
      "Epoch 55/100\n",
      "92/92 - 0s - loss: 0.0019 - accuracy: 0.0109 - 425ms/epoch - 5ms/step\n",
      "Epoch 56/100\n",
      "92/92 - 0s - loss: 0.0020 - accuracy: 0.0109 - 465ms/epoch - 5ms/step\n",
      "Epoch 57/100\n",
      "92/92 - 0s - loss: 0.0020 - accuracy: 0.0109 - 473ms/epoch - 5ms/step\n",
      "Epoch 58/100\n",
      "92/92 - 1s - loss: 0.0020 - accuracy: 0.0109 - 503ms/epoch - 5ms/step\n",
      "Epoch 59/100\n",
      "92/92 - 0s - loss: 0.0020 - accuracy: 0.0109 - 477ms/epoch - 5ms/step\n",
      "Epoch 60/100\n",
      "92/92 - 0s - loss: 0.0020 - accuracy: 0.0109 - 450ms/epoch - 5ms/step\n",
      "Epoch 61/100\n",
      "92/92 - 0s - loss: 0.0019 - accuracy: 0.0109 - 456ms/epoch - 5ms/step\n",
      "Epoch 62/100\n",
      "92/92 - 0s - loss: 0.0020 - accuracy: 0.0109 - 466ms/epoch - 5ms/step\n",
      "Epoch 63/100\n",
      "92/92 - 0s - loss: 0.0020 - accuracy: 0.0109 - 471ms/epoch - 5ms/step\n",
      "Epoch 64/100\n",
      "92/92 - 0s - loss: 0.0019 - accuracy: 0.0109 - 464ms/epoch - 5ms/step\n",
      "Epoch 65/100\n",
      "92/92 - 0s - loss: 0.0019 - accuracy: 0.0109 - 469ms/epoch - 5ms/step\n",
      "Epoch 66/100\n",
      "92/92 - 0s - loss: 0.0020 - accuracy: 0.0109 - 473ms/epoch - 5ms/step\n",
      "Epoch 67/100\n",
      "92/92 - 0s - loss: 0.0019 - accuracy: 0.0109 - 457ms/epoch - 5ms/step\n",
      "Epoch 68/100\n",
      "92/92 - 0s - loss: 0.0020 - accuracy: 0.0109 - 447ms/epoch - 5ms/step\n",
      "Epoch 69/100\n",
      "92/92 - 0s - loss: 0.0020 - accuracy: 0.0109 - 479ms/epoch - 5ms/step\n",
      "Epoch 70/100\n",
      "92/92 - 0s - loss: 0.0019 - accuracy: 0.0109 - 463ms/epoch - 5ms/step\n",
      "Epoch 71/100\n",
      "92/92 - 0s - loss: 0.0020 - accuracy: 0.0109 - 460ms/epoch - 5ms/step\n",
      "Epoch 72/100\n",
      "92/92 - 0s - loss: 0.0020 - accuracy: 0.0109 - 439ms/epoch - 5ms/step\n",
      "Epoch 73/100\n",
      "92/92 - 0s - loss: 0.0020 - accuracy: 0.0109 - 452ms/epoch - 5ms/step\n",
      "Epoch 74/100\n",
      "92/92 - 0s - loss: 0.0020 - accuracy: 0.0109 - 459ms/epoch - 5ms/step\n",
      "Epoch 75/100\n",
      "92/92 - 0s - loss: 0.0020 - accuracy: 0.0109 - 436ms/epoch - 5ms/step\n",
      "Epoch 76/100\n"
     ]
    }
   ],
   "source": [
    "model = Sequential()\n",
    "model.add(LSTM(4, input_shape=(1, look_back)))\n",
    "model.add(Dense(1))\n",
    "model.compile(loss='mean_squared_error', optimizer='adam', metrics=['accuracy'])\n",
    "model.fit(trainX, trainY, epochs=100, batch_size=1, verbose=2)"
   ]
  },
  {
   "cell_type": "code",
   "execution_count": null,
   "metadata": {
    "colab": {
     "base_uri": "https://localhost:8080/"
    },
    "id": "DPoAO0uXTmSz",
    "outputId": "d2d8c80b-44b8-4316-be1a-01055065477a"
   },
   "outputs": [],
   "source": [
    "trainPredict = model.predict(trainX)\n",
    "#print(trainPredict)\n",
    "testPredict = model.predict(testX)\n",
    "#print([trainY])\n",
    "# invert predictions\n",
    "trainPredict = scaler.inverse_transform(trainPredict)\n",
    "trainY = scaler.inverse_transform([trainY])\n",
    "testPredict = scaler.inverse_transform(testPredict)\n",
    "testY = scaler.inverse_transform([testY])\n",
    "# calculate root mean squared error\n",
    "trainScore = math.sqrt(mean_squared_error(trainY[0], trainPredict[:,0]))\n",
    "print('Train Score: %.2f RMSE' % (trainScore))\n",
    "testScore = math.sqrt(mean_squared_error(testY[0], testPredict[:,0]))\n",
    "print('Test Score: %.2f RMSE' % (testScore))"
   ]
  },
  {
   "cell_type": "code",
   "execution_count": null,
   "metadata": {
    "colab": {
     "base_uri": "https://localhost:8080/",
     "height": 430
    },
    "id": "c00Hf00wUA0c",
    "outputId": "2ab406af-50a4-407c-8ce3-d0f424b737a2"
   },
   "outputs": [],
   "source": [
    "trainPredictPlot = numpy.empty_like(dataset)\n",
    "trainPredictPlot[:, :] = numpy.nan\n",
    "trainPredictPlot[look_back:len(trainPredict)+look_back, :] = trainPredict\n",
    "# shift test predictions for plotting\n",
    "testPredictPlot = numpy.empty_like(dataset)\n",
    "testPredictPlot[:, :] = numpy.nan\n",
    "testPredictPlot[len(trainPredict)+(look_back*2)+1:len(dataset)-1, :] = testPredict\n",
    "# plot baseline and predictions\n",
    "plt.plot(scaler.inverse_transform(dataset))\n",
    "plt.plot(trainPredictPlot)\n",
    "plt.plot(testPredictPlot)\n",
    "plt.show()"
   ]
  }
 ],
 "metadata": {
  "colab": {
   "provenance": []
  },
  "kernelspec": {
   "display_name": "Python 3 (ipykernel)",
   "language": "python",
   "name": "python3"
  },
  "language_info": {
   "codemirror_mode": {
    "name": "ipython",
    "version": 3
   },
   "file_extension": ".py",
   "mimetype": "text/x-python",
   "name": "python",
   "nbconvert_exporter": "python",
   "pygments_lexer": "ipython3",
   "version": "3.10.6"
  },
  "vscode": {
   "interpreter": {
    "hash": "916dbcbb3f70747c44a77c7bcd40155683ae19c65e1c03b4aa3499c5328201f1"
   }
  }
 },
 "nbformat": 4,
 "nbformat_minor": 1
}
