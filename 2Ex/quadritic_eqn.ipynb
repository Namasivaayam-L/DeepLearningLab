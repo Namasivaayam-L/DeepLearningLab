{
 "cells": [
  {
   "cell_type": "code",
   "execution_count": 32,
   "metadata": {},
   "outputs": [],
   "source": [
    "import torch\n",
    "from torch import Tensor\n",
    "from torch.nn import Linear, MSELoss, functional as F\n",
    "from torch.optim import SGD, Adam, RMSprop\n",
    "from torch.autograd import Variable\n",
    "import numpy as np"
   ]
  },
  {
   "cell_type": "code",
   "execution_count": 33,
   "metadata": {},
   "outputs": [],
   "source": [
    "def data_generator(data_size=50):\n",
    "    inputs = []\n",
    "    labels = []\n",
    "    for ix in range(data_size):        \n",
    "        x = np.random.randint(1000) / 1000\n",
    "        y = 7*(x*x*x) + 8*x+ 2\n",
    "        inputs.append([x])\n",
    "        labels.append([y])\n",
    "    return inputs, labels"
   ]
  },
  {
   "cell_type": "code",
   "execution_count": 34,
   "metadata": {},
   "outputs": [],
   "source": [
    "class Net(torch.nn.Module):\n",
    "    w = torch.randn(1, 3, requires_grad=True) # 1 row and 3 column\n",
    "    def __init__(self):\n",
    "        super(Net, self).__init__()\n",
    "        self.fc1 = Linear(1, 6)\n",
    "        self.fc3 = Linear(6, 1)\n",
    "        \n",
    "    def forward(self, x):\n",
    "        x =F.relu(self.fc1(x))\n",
    "        x = self.fc3(x)\n",
    "        return (x*self.w)\n",
    "model = Net()"
   ]
  },
  {
   "cell_type": "code",
   "execution_count": 35,
   "metadata": {},
   "outputs": [],
   "source": [
    "critereon = MSELoss()\n",
    "optimizer = SGD(model.parameters(), lr=0.01)"
   ]
  },
  {
   "cell_type": "code",
   "execution_count": 36,
   "metadata": {},
   "outputs": [],
   "source": [
    "nb_epochs = 70\n",
    "data_size = 50\n",
    "lr=0.01"
   ]
  },
  {
   "cell_type": "code",
   "execution_count": 37,
   "metadata": {},
   "outputs": [
    {
     "name": "stderr",
     "output_type": "stream",
     "text": [
      "/home/namachu/miniconda3/lib/python3.9/site-packages/torch/nn/modules/loss.py:536: UserWarning: Using a target size (torch.Size([1])) that is different to the input size (torch.Size([1, 3])). This will likely lead to incorrect results due to broadcasting. Please ensure they have the same size.\n",
      "  return F.mse_loss(input, target, reduction=self.reduction)\n"
     ]
    },
    {
     "ename": "AttributeError",
     "evalue": "'Linear' object has no attribute 'grad'",
     "output_type": "error",
     "traceback": [
      "\u001b[0;31m---------------------------------------------------------------------------\u001b[0m",
      "\u001b[0;31mAttributeError\u001b[0m                            Traceback (most recent call last)",
      "Cell \u001b[0;32mIn [37], line 10\u001b[0m\n\u001b[1;32m      8\u001b[0m \u001b[39m# print(loss.data)   \u001b[39;00m\n\u001b[1;32m      9\u001b[0m \u001b[39mwith\u001b[39;00m torch\u001b[39m.\u001b[39mno_grad():\n\u001b[0;32m---> 10\u001b[0m     model\u001b[39m.\u001b[39mfc1 \u001b[39m-\u001b[39m\u001b[39m=\u001b[39m model\u001b[39m.\u001b[39;49mfc1\u001b[39m.\u001b[39;49mgrad \u001b[39m*\u001b[39m lr\n\u001b[1;32m     11\u001b[0m     model\u001b[39m.\u001b[39mfc2 \u001b[39m-\u001b[39m\u001b[39m=\u001b[39m model\u001b[39m.\u001b[39mfc2\u001b[39m.\u001b[39mgrad \u001b[39m*\u001b[39m lr\n\u001b[1;32m     12\u001b[0m     model\u001b[39m.\u001b[39mw\u001b[39m.\u001b[39mgrad\u001b[39m.\u001b[39mzero_()\n",
      "File \u001b[0;32m~/miniconda3/lib/python3.9/site-packages/torch/nn/modules/module.py:1269\u001b[0m, in \u001b[0;36mModule.__getattr__\u001b[0;34m(self, name)\u001b[0m\n\u001b[1;32m   1267\u001b[0m     \u001b[39mif\u001b[39;00m name \u001b[39min\u001b[39;00m modules:\n\u001b[1;32m   1268\u001b[0m         \u001b[39mreturn\u001b[39;00m modules[name]\n\u001b[0;32m-> 1269\u001b[0m \u001b[39mraise\u001b[39;00m \u001b[39mAttributeError\u001b[39;00m(\u001b[39m\"\u001b[39m\u001b[39m'\u001b[39m\u001b[39m{}\u001b[39;00m\u001b[39m'\u001b[39m\u001b[39m object has no attribute \u001b[39m\u001b[39m'\u001b[39m\u001b[39m{}\u001b[39;00m\u001b[39m'\u001b[39m\u001b[39m\"\u001b[39m\u001b[39m.\u001b[39mformat(\n\u001b[1;32m   1270\u001b[0m     \u001b[39mtype\u001b[39m(\u001b[39mself\u001b[39m)\u001b[39m.\u001b[39m\u001b[39m__name__\u001b[39m, name))\n",
      "\u001b[0;31mAttributeError\u001b[0m: 'Linear' object has no attribute 'grad'"
     ]
    }
   ],
   "source": [
    "for epoch in range(nb_epochs):\n",
    "    X, y = data_generator(data_size)\n",
    "    \n",
    "    epoch_loss = 0\n",
    "    \n",
    "    for ix in range(data_size):\n",
    "        y_pred = model(Variable(Tensor(X[ix])))\n",
    "        loss = critereon(y_pred, Variable(Tensor(y[ix]), requires_grad=False)) \n",
    "        # print(loss.data)    \n",
    "        epoch_loss = loss.data\n",
    "        optimizer.zero_grad()\n",
    "        loss.backward()\n",
    "        optimizer.step()\n",
    "    \n",
    "    print(\"Epoch: {} Loss: {}\".format(epoch, epoch_loss))\n",
    "#test the model\n"
   ]
  },
  {
   "cell_type": "code",
   "execution_count": null,
   "metadata": {},
   "outputs": [
    {
     "name": "stdout",
     "output_type": "stream",
     "text": [
      "Prediction: 5.284982681274414\n",
      "Expected: [4.118692757]\n"
     ]
    }
   ],
   "source": [
    "model.eval()\n",
    "test_data = data_generator(1)\n",
    "prediction = model(Variable(Tensor(test_data[0][0])))\n",
    "print(\"Prediction: {}\".format(prediction.data[0]))\n",
    "print(\"Expected: {}\".format(test_data[1][0]))"
   ]
  }
 ],
 "metadata": {
  "kernelspec": {
   "display_name": "base",
   "language": "python",
   "name": "python3"
  },
  "language_info": {
   "codemirror_mode": {
    "name": "ipython",
    "version": 3
   },
   "file_extension": ".py",
   "mimetype": "text/x-python",
   "name": "python",
   "nbconvert_exporter": "python",
   "pygments_lexer": "ipython3",
   "version": "3.9.12"
  },
  "orig_nbformat": 4,
  "vscode": {
   "interpreter": {
    "hash": "ce7a84d50acf3e31f2f26f4ab280fb48f5f865adcc25bdbc4b7dafb55ef5f989"
   }
  }
 },
 "nbformat": 4,
 "nbformat_minor": 2
}
