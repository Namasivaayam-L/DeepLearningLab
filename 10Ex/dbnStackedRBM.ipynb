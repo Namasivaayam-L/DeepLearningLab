{
 "cells": [
  {
   "cell_type": "code",
   "execution_count": 57,
   "metadata": {},
   "outputs": [],
   "source": [
    "import torch\n",
    "import torchvision.datasets as datasets\n",
    "import torchvision.transforms as transforms\n",
    "from torch.utils.data import DataLoader\n",
    "import torch.nn as nn\n",
    "from torch.nn import functional as F"
   ]
  },
  {
   "cell_type": "code",
   "execution_count": 58,
   "metadata": {},
   "outputs": [],
   "source": [
    "class RBM(nn.Module):\n",
    "    def __init__(self, n_vis, n_hid):\n",
    "        super(RBM, self).__init__()\n",
    "        self.W = nn.Parameter(torch.randn(n_hid, n_vis))\n",
    "        self.v_bias = nn.Parameter(torch.randn(n_vis))\n",
    "        self.h_bias = nn.Parameter(torch.randn(n_hid))\n",
    "        \n",
    "        # update the weight matrices to match the input dimensions\n",
    "        nn.init.xavier_uniform_(self.W)\n",
    "        self.W.data = self.W.data.T\n",
    "\n",
    "    def forward(self, v):\n",
    "        h_prob = torch.sigmoid(F.linear(v, self.W, self.h_bias))\n",
    "        h = torch.bernoulli(h_prob)\n",
    "        v_prob = torch.sigmoid(F.linear(h, self.W.t(), self.v_bias))\n",
    "        v = torch.bernoulli(v_prob)\n",
    "        return v, v_prob, h, h_prob"
   ]
  },
  {
   "cell_type": "code",
   "execution_count": 59,
   "metadata": {},
   "outputs": [],
   "source": [
    "class DBN(nn.Module):\n",
    "    def __init__(self, layers, n_hids=None):\n",
    "        super(DBN, self).__init__()\n",
    "\n",
    "        if n_hids is None:\n",
    "            n_hids = [64] * (len(layers) - 1)\n",
    "            print(f\"No. of hidden layers not specified. Setting default no. of hidden units to 500 for all layers.\")\n",
    "        elif len(n_hids) != len(layers) - 1:\n",
    "            raise ValueError(f\"Invalid number of hidden layers: expected {len(layers)-1}, got {len(n_hids)}\")\n",
    "\n",
    "        self.rbms = nn.ModuleList()\n",
    "        for i in range(1, len(layers)):\n",
    "            n_vis = layers[i-1]\n",
    "            rbm = RBM(n_vis, n_hids[i-1])\n",
    "            self.rbms.append(rbm)\n",
    "\n",
    "        self.fc = nn.Linear(n_hids[-1], 10)\n",
    "\n",
    "    def forward(self, x):\n",
    "        h = x\n",
    "        for rbm in self.rbms:\n",
    "            h = rbm.forward(h)\n",
    "\n",
    "        h = h.view(h.size(0), -1)\n",
    "        y = self.fc(h)\n",
    "\n",
    "        return y\n"
   ]
  },
  {
   "cell_type": "code",
   "execution_count": 60,
   "metadata": {},
   "outputs": [],
   "source": [
    "# Load Fashion-MNIST dataset\n",
    "train_dataset = datasets.FashionMNIST(root='./data', train=True, transform=transforms.ToTensor(), download=True)\n",
    "test_dataset = datasets.FashionMNIST(root='./data', train=False, transform=transforms.ToTensor(), download=True)"
   ]
  },
  {
   "cell_type": "code",
   "execution_count": 61,
   "metadata": {},
   "outputs": [],
   "source": [
    "# Set hyperparameters\n",
    "learning_rate = 0.01\n",
    "num_epochs = 10\n",
    "batch_size = 64\n",
    "layers = [784, 500, 250, 100, 10]\n",
    "\n"
   ]
  },
  {
   "cell_type": "code",
   "execution_count": 64,
   "metadata": {},
   "outputs": [
    {
     "ename": "ValueError",
     "evalue": "Invalid number of hidden layers: expected 4, got 5",
     "output_type": "error",
     "traceback": [
      "\u001b[0;31m---------------------------------------------------------------------------\u001b[0m",
      "\u001b[0;31mValueError\u001b[0m                                Traceback (most recent call last)",
      "Cell \u001b[0;32mIn[64], line 6\u001b[0m\n\u001b[1;32m      2\u001b[0m n_hids \u001b[39m=\u001b[39m [\u001b[39m784\u001b[39m, \u001b[39m500\u001b[39m, \u001b[39m250\u001b[39m, \u001b[39m100\u001b[39m, \u001b[39m10\u001b[39m]   \n\u001b[1;32m      3\u001b[0m \u001b[39m# if len(n_hids) != len(layers) - 1:\u001b[39;00m\n\u001b[1;32m      4\u001b[0m \u001b[39m#     n_hids = [500] * (len(layers) - 1)\u001b[39;00m\n\u001b[1;32m      5\u001b[0m \u001b[39m#     print(f\"Invalid number of hidden layers: expected {len(layers)-1}, setting default number of hidden units to {n_hids}\")\u001b[39;00m\n\u001b[0;32m----> 6\u001b[0m model \u001b[39m=\u001b[39m DBN(layers, n_hids\u001b[39m=\u001b[39;49mn_hids)\n\u001b[1;32m      8\u001b[0m \u001b[39m# Define loss function and optimizer\u001b[39;00m\n\u001b[1;32m      9\u001b[0m criterion \u001b[39m=\u001b[39m nn\u001b[39m.\u001b[39mCrossEntropyLoss()\n",
      "Cell \u001b[0;32mIn[59], line 9\u001b[0m, in \u001b[0;36mDBN.__init__\u001b[0;34m(self, layers, n_hids)\u001b[0m\n\u001b[1;32m      7\u001b[0m     \u001b[39mprint\u001b[39m(\u001b[39mf\u001b[39m\u001b[39m\"\u001b[39m\u001b[39mNo. of hidden layers not specified. Setting default no. of hidden units to 500 for all layers.\u001b[39m\u001b[39m\"\u001b[39m)\n\u001b[1;32m      8\u001b[0m \u001b[39melif\u001b[39;00m \u001b[39mlen\u001b[39m(n_hids) \u001b[39m!=\u001b[39m \u001b[39mlen\u001b[39m(layers) \u001b[39m-\u001b[39m \u001b[39m1\u001b[39m:\n\u001b[0;32m----> 9\u001b[0m     \u001b[39mraise\u001b[39;00m \u001b[39mValueError\u001b[39;00m(\u001b[39mf\u001b[39m\u001b[39m\"\u001b[39m\u001b[39mInvalid number of hidden layers: expected \u001b[39m\u001b[39m{\u001b[39;00m\u001b[39mlen\u001b[39m(layers)\u001b[39m-\u001b[39m\u001b[39m1\u001b[39m\u001b[39m}\u001b[39;00m\u001b[39m, got \u001b[39m\u001b[39m{\u001b[39;00m\u001b[39mlen\u001b[39m(n_hids)\u001b[39m}\u001b[39;00m\u001b[39m\"\u001b[39m)\n\u001b[1;32m     11\u001b[0m \u001b[39mself\u001b[39m\u001b[39m.\u001b[39mrbms \u001b[39m=\u001b[39m nn\u001b[39m.\u001b[39mModuleList()\n\u001b[1;32m     12\u001b[0m \u001b[39mfor\u001b[39;00m i \u001b[39min\u001b[39;00m \u001b[39mrange\u001b[39m(\u001b[39m1\u001b[39m, \u001b[39mlen\u001b[39m(layers)):\n",
      "\u001b[0;31mValueError\u001b[0m: Invalid number of hidden layers: expected 4, got 5"
     ]
    }
   ],
   "source": [
    "# Initialize DBN model\n",
    "n_hids = [784, 500, 250, 100, 10]   \n",
    "if len(n_hids) != len(layers) - 1:\n",
    "    n_hids = [500] * (len(layers) - 1)\n",
    "    print(f\"Invalid number of hidden layers: expected {len(layers)-1}, setting default number of hidden units to {n_hids}\")\n",
    "model = DBN(layers, n_hids=n_hids)\n",
    "\n",
    "# Define loss function and optimizer\n",
    "criterion = nn.CrossEntropyLoss()\n",
    "optimizer = torch.optim.Adam(model.parameters(), lr=learning_rate)\n"
   ]
  },
  {
   "cell_type": "code",
   "execution_count": 63,
   "metadata": {},
   "outputs": [
    {
     "ename": "RuntimeError",
     "evalue": "mat1 and mat2 shapes cannot be multiplied (64x784 and 500x784)",
     "output_type": "error",
     "traceback": [
      "\u001b[0;31m---------------------------------------------------------------------------\u001b[0m",
      "\u001b[0;31mRuntimeError\u001b[0m                              Traceback (most recent call last)",
      "Cell \u001b[0;32mIn[63], line 7\u001b[0m\n\u001b[1;32m      5\u001b[0m images \u001b[39m=\u001b[39m images\u001b[39m.\u001b[39mview(\u001b[39m-\u001b[39m\u001b[39m1\u001b[39m, \u001b[39m784\u001b[39m)\n\u001b[1;32m      6\u001b[0m optimizer\u001b[39m.\u001b[39mzero_grad()\n\u001b[0;32m----> 7\u001b[0m outputs \u001b[39m=\u001b[39m model(images)\n\u001b[1;32m      8\u001b[0m loss \u001b[39m=\u001b[39m criterion(outputs, labels)\n\u001b[1;32m      9\u001b[0m loss\u001b[39m.\u001b[39mbackward()\n",
      "File \u001b[0;32m~/.local/lib/python3.10/site-packages/torch/nn/modules/module.py:1501\u001b[0m, in \u001b[0;36mModule._call_impl\u001b[0;34m(self, *args, **kwargs)\u001b[0m\n\u001b[1;32m   1496\u001b[0m \u001b[39m# If we don't have any hooks, we want to skip the rest of the logic in\u001b[39;00m\n\u001b[1;32m   1497\u001b[0m \u001b[39m# this function, and just call forward.\u001b[39;00m\n\u001b[1;32m   1498\u001b[0m \u001b[39mif\u001b[39;00m \u001b[39mnot\u001b[39;00m (\u001b[39mself\u001b[39m\u001b[39m.\u001b[39m_backward_hooks \u001b[39mor\u001b[39;00m \u001b[39mself\u001b[39m\u001b[39m.\u001b[39m_backward_pre_hooks \u001b[39mor\u001b[39;00m \u001b[39mself\u001b[39m\u001b[39m.\u001b[39m_forward_hooks \u001b[39mor\u001b[39;00m \u001b[39mself\u001b[39m\u001b[39m.\u001b[39m_forward_pre_hooks\n\u001b[1;32m   1499\u001b[0m         \u001b[39mor\u001b[39;00m _global_backward_pre_hooks \u001b[39mor\u001b[39;00m _global_backward_hooks\n\u001b[1;32m   1500\u001b[0m         \u001b[39mor\u001b[39;00m _global_forward_hooks \u001b[39mor\u001b[39;00m _global_forward_pre_hooks):\n\u001b[0;32m-> 1501\u001b[0m     \u001b[39mreturn\u001b[39;00m forward_call(\u001b[39m*\u001b[39;49margs, \u001b[39m*\u001b[39;49m\u001b[39m*\u001b[39;49mkwargs)\n\u001b[1;32m   1502\u001b[0m \u001b[39m# Do not call functions when jit is used\u001b[39;00m\n\u001b[1;32m   1503\u001b[0m full_backward_hooks, non_full_backward_hooks \u001b[39m=\u001b[39m [], []\n",
      "Cell \u001b[0;32mIn[59], line 22\u001b[0m, in \u001b[0;36mDBN.forward\u001b[0;34m(self, x)\u001b[0m\n\u001b[1;32m     20\u001b[0m h \u001b[39m=\u001b[39m x\n\u001b[1;32m     21\u001b[0m \u001b[39mfor\u001b[39;00m rbm \u001b[39min\u001b[39;00m \u001b[39mself\u001b[39m\u001b[39m.\u001b[39mrbms:\n\u001b[0;32m---> 22\u001b[0m     h \u001b[39m=\u001b[39m rbm\u001b[39m.\u001b[39;49mforward(h)\n\u001b[1;32m     24\u001b[0m h \u001b[39m=\u001b[39m h\u001b[39m.\u001b[39mview(h\u001b[39m.\u001b[39msize(\u001b[39m0\u001b[39m), \u001b[39m-\u001b[39m\u001b[39m1\u001b[39m)\n\u001b[1;32m     25\u001b[0m y \u001b[39m=\u001b[39m \u001b[39mself\u001b[39m\u001b[39m.\u001b[39mfc(h)\n",
      "Cell \u001b[0;32mIn[58], line 13\u001b[0m, in \u001b[0;36mRBM.forward\u001b[0;34m(self, v)\u001b[0m\n\u001b[1;32m     12\u001b[0m \u001b[39mdef\u001b[39;00m \u001b[39mforward\u001b[39m(\u001b[39mself\u001b[39m, v):\n\u001b[0;32m---> 13\u001b[0m     h_prob \u001b[39m=\u001b[39m torch\u001b[39m.\u001b[39msigmoid(F\u001b[39m.\u001b[39;49mlinear(v, \u001b[39mself\u001b[39;49m\u001b[39m.\u001b[39;49mW, \u001b[39mself\u001b[39;49m\u001b[39m.\u001b[39;49mh_bias))\n\u001b[1;32m     14\u001b[0m     h \u001b[39m=\u001b[39m torch\u001b[39m.\u001b[39mbernoulli(h_prob)\n\u001b[1;32m     15\u001b[0m     v_prob \u001b[39m=\u001b[39m torch\u001b[39m.\u001b[39msigmoid(F\u001b[39m.\u001b[39mlinear(h, \u001b[39mself\u001b[39m\u001b[39m.\u001b[39mW\u001b[39m.\u001b[39mt(), \u001b[39mself\u001b[39m\u001b[39m.\u001b[39mv_bias))\n",
      "\u001b[0;31mRuntimeError\u001b[0m: mat1 and mat2 shapes cannot be multiplied (64x784 and 500x784)"
     ]
    }
   ],
   "source": [
    "# Train the DBN model\n",
    "train_loader = DataLoader(train_dataset, batch_size=batch_size, shuffle=True)\n",
    "for epoch in range(num_epochs):\n",
    "    for i, (images, labels) in enumerate(train_loader):\n",
    "        images = images.view(-1, 784)\n",
    "        optimizer.zero_grad()\n",
    "        outputs = model(images)\n",
    "        loss = criterion(outputs, labels)\n",
    "        loss.backward()\n",
    "        optimizer.step()\n",
    "        \n",
    "        if (i+1) % 100 == 0:\n",
    "            print('Epoch [{}/{}], Step [{}/{}], Loss: {:.4f}'.format(epoch+1, num_epochs, i+1, len(train_loader), loss.item()))"
   ]
  },
  {
   "cell_type": "code",
   "execution_count": null,
   "metadata": {},
   "outputs": [],
   "source": [
    "# Test the DBN model\n",
    "with torch.no_grad():\n",
    "    correct = 0\n",
    "    total = 0\n",
    "    test_loader = DataLoader(test_dataset, batch_size=batch_size, shuffle=False)\n",
    "    for images, labels in test_loader:\n",
    "        images = images.view(-1, 784)\n",
    "        outputs = model(images)\n",
    "        _, predicted = torch.max(outputs.data, 1)\n",
    "        total += labels.size(0)\n",
    "        correct += (predicted == labels).sum().item()\n",
    "    \n",
    "    print('Accuracy of the DBN model on the {} test images: {} %'.format(total, 100 * correct / total))\n"
   ]
  }
 ],
 "metadata": {
  "kernelspec": {
   "display_name": "Python 3",
   "language": "python",
   "name": "python3"
  },
  "language_info": {
   "codemirror_mode": {
    "name": "ipython",
    "version": 3
   },
   "file_extension": ".py",
   "mimetype": "text/x-python",
   "name": "python",
   "nbconvert_exporter": "python",
   "pygments_lexer": "ipython3",
   "version": "3.10.6"
  },
  "orig_nbformat": 4
 },
 "nbformat": 4,
 "nbformat_minor": 2
}
