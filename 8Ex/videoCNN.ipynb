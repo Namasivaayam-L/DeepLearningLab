{
 "cells": [
  {
   "cell_type": "code",
   "execution_count": 17,
   "metadata": {},
   "outputs": [],
   "source": [
    "import tensorflow as tf\n",
    "import os\n",
    "import cv2\n",
    "import numpy as np"
   ]
  },
  {
   "cell_type": "code",
   "execution_count": 18,
   "metadata": {},
   "outputs": [],
   "source": [
    "# Set dataset path\n",
    "# Load list of class names\n",
    "with open(\"../Datasets/UCF101/UCF101TrainTestSplits-RecognitionTask/ucfTrainTestlist/classInd.txt\") as f:\n",
    "    class_names = [line.strip().split()[1] for line in f.readlines()]"
   ]
  },
  {
   "cell_type": "code",
   "execution_count": 19,
   "metadata": {},
   "outputs": [],
   "source": [
    "def vid_to_np_arr(filename,filepath,resized_cls_dir):\n",
    "    # Load the video file\n",
    "    # resized_file_path = \"../Datasets/UCF101 Resized/\"\n",
    "    video = cv2.VideoCapture(filepath)\n",
    "    frames = []\n",
    "    while video.isOpened():\n",
    "        ret, frame = video.read()\n",
    "        if not ret:\n",
    "            break\n",
    "        frame = cv2.cvtColor(frame, cv2.COLOR_BGR2RGB)\n",
    "        frame = cv2.resize(frame, (64,64))\n",
    "        # Save the resized image\n",
    "        file_path = resized_cls_dir + '/' + filename\n",
    "        cv2.imwrite(file_path, frame)\n",
    "        frames.append(np.array(frame))\n",
    "    np_arry = np.array(frames)\n",
    "    video.release()\n",
    "    return np_arry"
   ]
  },
  {
   "cell_type": "code",
   "execution_count": 20,
   "metadata": {},
   "outputs": [
    {
     "ename": "error",
     "evalue": "OpenCV(4.7.0) /io/opencv/modules/imgcodecs/src/loadsave.cpp:692: error: (-2:Unspecified error) could not find a writer for the specified extension in function 'imwrite_'\n",
     "output_type": "error",
     "traceback": [
      "\u001b[0;31m---------------------------------------------------------------------------\u001b[0m",
      "\u001b[0;31merror\u001b[0m                                     Traceback (most recent call last)",
      "Cell \u001b[0;32mIn[20], line 12\u001b[0m\n\u001b[1;32m     10\u001b[0m filepath \u001b[39m=\u001b[39m os\u001b[39m.\u001b[39mpath\u001b[39m.\u001b[39mjoin(class_dir, filename)\n\u001b[1;32m     11\u001b[0m \u001b[39m# video = np.load(filepath)\u001b[39;00m\n\u001b[0;32m---> 12\u001b[0m video \u001b[39m=\u001b[39m vid_to_np_arr(filename,filepath,resized_cls_dir)\n\u001b[1;32m     13\u001b[0m train_data\u001b[39m.\u001b[39mappend(video)\n\u001b[1;32m     14\u001b[0m train_labels\u001b[39m.\u001b[39mappend(class_id)\n",
      "Cell \u001b[0;32mIn[19], line 14\u001b[0m, in \u001b[0;36mvid_to_np_arr\u001b[0;34m(filename, filepath, resized_cls_dir)\u001b[0m\n\u001b[1;32m     12\u001b[0m     \u001b[39m# Save the resized image\u001b[39;00m\n\u001b[1;32m     13\u001b[0m     file_path \u001b[39m=\u001b[39m resized_cls_dir \u001b[39m+\u001b[39m \u001b[39m'\u001b[39m\u001b[39m/\u001b[39m\u001b[39m'\u001b[39m \u001b[39m+\u001b[39m filename\n\u001b[0;32m---> 14\u001b[0m     cv2\u001b[39m.\u001b[39;49mimwrite(file_path, frame)\n\u001b[1;32m     15\u001b[0m     frames\u001b[39m.\u001b[39mappend(np\u001b[39m.\u001b[39marray(frame))\n\u001b[1;32m     16\u001b[0m np_arry \u001b[39m=\u001b[39m np\u001b[39m.\u001b[39marray(frames)\n",
      "\u001b[0;31merror\u001b[0m: OpenCV(4.7.0) /io/opencv/modules/imgcodecs/src/loadsave.cpp:692: error: (-2:Unspecified error) could not find a writer for the specified extension in function 'imwrite_'\n"
     ]
    }
   ],
   "source": [
    "# Load training data\n",
    "train_data = []\n",
    "train_labels = []\n",
    "resized_ds_dir = \"../Datasets/UCF101_Resized/UCF101/UCF-101/\"\n",
    "for class_id, class_name in enumerate(class_names):\n",
    "    class_dir = os.path.join('../Datasets/UCF101/UCF101/UCF-101/',class_name)\n",
    "    os.makedirs(resized_ds_dir+class_name)\n",
    "    resized_cls_dir = resized_ds_dir + class_name\n",
    "    for filename in os.listdir(class_dir):\n",
    "        filepath = os.path.join(class_dir, filename)\n",
    "        # video = np.load(filepath)\n",
    "        video = vid_to_np_arr(filename,filepath,resized_cls_dir)\n",
    "        train_data.append(video)\n",
    "        train_labels.append(class_id)"
   ]
  },
  {
   "cell_type": "code",
   "execution_count": null,
   "metadata": {},
   "outputs": [],
   "source": [
    "# Load testing data\n",
    "test_data = []\n",
    "test_labels = []\n",
    "with open(\"../Datasets/UCF101/UCF101TrainTestSplits-RecognitionTask/ucfTrainTestlist/testlist01.txt\") as f:\n",
    "    for line in f.readlines():\n",
    "        filename = line.strip().split()[0]\n",
    "        class_name = filename.split(\"/\")[0]\n",
    "        class_id = class_names.index(class_name)\n",
    "        filepath = os.path.join(filename)\n",
    "        # video = np.load(filepath,allow_pickle=True)\n",
    "        video = vid_to_np_arr(filepath)\n",
    "        test_labels.append(class_id)"
   ]
  },
  {
   "cell_type": "code",
   "execution_count": null,
   "metadata": {},
   "outputs": [
    {
     "ename": "",
     "evalue": "",
     "output_type": "error",
     "traceback": [
      "\u001b[1;31mCanceled future for execute_request message before replies were done"
     ]
    },
    {
     "ename": "",
     "evalue": "",
     "output_type": "error",
     "traceback": [
      "\u001b[1;31mThe Kernel crashed while executing code in the the current cell or a previous cell. Please review the code in the cell(s) to identify a possible cause of the failure. Click <a href='https://aka.ms/vscodeJupyterKernelCrash'>here</a> for more info. View Jupyter <a href='command:jupyter.viewOutput'>log</a> for further details."
     ]
    }
   ],
   "source": [
    "\n",
    "# Convert data to tensors and normalize pixel values to range [0, 1]\n",
    "train_data = tf.convert_to_tensor(train_data, dtype=tf.float32) / 255.\n",
    "train_labels = tf.convert_to_tensor(train_labels, dtype=tf.int32)\n",
    "test_data = tf.convert_to_tensor(test_data, dtype=tf.float32) / 255.\n",
    "test_labels = tf.convert_to_tensor(test_labels, dtype=tf.int32)\n",
    "\n",
    "# Create dataset objects\n",
    "train_ds = tf.data.Dataset.from_tensor_slices((train_data, train_labels)).shuffle(len(train_data)).batch(32)\n",
    "test_ds = tf.data.Dataset.from_tensor_slices((test_data, test_labels)).batch(32)"
   ]
  },
  {
   "cell_type": "code",
   "execution_count": null,
   "metadata": {},
   "outputs": [],
   "source": [
    "\n",
    "# Define the CNN model\n",
    "model = tf.keras.models.Sequential([\n",
    "    tf.keras.layers.Conv3D(64, (3, 3, 3), activation='relu', input_shape=(16, 112, 112, 3)),\n",
    "    tf.keras.layers.MaxPooling3D((2, 2, 2)),\n",
    "    tf.keras.layers.Conv3D(128, (3, 3, 3), activation='relu'),\n",
    "    tf.keras.layers.MaxPooling3D((2, 2, 2)),\n",
    "    tf.keras.layers.Conv3D(256, (3, 3, 3), activation='relu'),\n",
    "    tf.keras.layers.MaxPooling3D((2, 2, 2)),\n",
    "    tf.keras.layers.Flatten(),\n",
    "    tf.keras.layers.Dense(512, activation='relu'),\n",
    "    tf.keras.layers.Dropout(0.5),\n",
    "    tf.keras.layers.Dense(len(class_names), activation='softmax')\n",
    "])\n"
   ]
  },
  {
   "cell_type": "code",
   "execution_count": null,
   "metadata": {},
   "outputs": [],
   "source": [
    "\n",
    "# Compile the model\n",
    "model.compile(optimizer=tf.keras.optimizers.Adam(),\n",
    "              loss=tf.keras.losses.SparseCategoricalCrossentropy(),\n",
    "              metrics=['accuracy'])\n",
    "\n",
    "# Train the model\n",
    "model.fit(train_ds, epochs=10)\n"
   ]
  },
  {
   "cell_type": "code",
   "execution_count": null,
   "metadata": {},
   "outputs": [],
   "source": [
    "\n",
    "# Evaluate the model on the test set\n",
    "model.evaluate(test_ds)\n"
   ]
  }
 ],
 "metadata": {
  "kernelspec": {
   "display_name": "Python 3",
   "language": "python",
   "name": "python3"
  },
  "language_info": {
   "codemirror_mode": {
    "name": "ipython",
    "version": 3
   },
   "file_extension": ".py",
   "mimetype": "text/x-python",
   "name": "python",
   "nbconvert_exporter": "python",
   "pygments_lexer": "ipython3",
   "version": "3.10.6"
  },
  "orig_nbformat": 4
 },
 "nbformat": 4,
 "nbformat_minor": 2
}
