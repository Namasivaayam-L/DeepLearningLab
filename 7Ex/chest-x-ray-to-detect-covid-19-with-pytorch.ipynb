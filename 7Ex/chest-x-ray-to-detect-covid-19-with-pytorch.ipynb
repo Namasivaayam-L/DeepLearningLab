{
 "cells": [
  {
   "cell_type": "code",
   "execution_count": 390,
   "metadata": {
    "execution": {
     "iopub.execute_input": "2020-08-28T08:07:53.494819Z",
     "iopub.status.busy": "2020-08-28T08:07:53.494052Z",
     "iopub.status.idle": "2020-08-28T08:07:54.555155Z",
     "shell.execute_reply": "2020-08-28T08:07:54.554304Z"
    },
    "id": "FrO_RdeCrCNI",
    "papermill": {
     "duration": 1.080937,
     "end_time": "2020-08-28T08:07:54.555304",
     "exception": false,
     "start_time": "2020-08-28T08:07:53.474367",
     "status": "completed"
    },
    "tags": []
   },
   "outputs": [],
   "source": [
    "import torch\n",
    "import pandas as pd\n",
    "import numpy as np\n",
    "import matplotlib.pyplot as plt\n",
    "import warnings\n",
    "import torch.nn as nn\n",
    "import torch.nn.functional as F\n",
    "import torch.optim as optim\n",
    "\n",
    "from torchvision.datasets import ImageFolder\n",
    "from torchvision import transforms\n",
    "from torch.utils.data.sampler import SubsetRandomSampler #samples randomly from given indices\n",
    "from torch.utils.data.dataloader import DataLoader # loads the data from sampler\n",
    "\n",
    "warnings.filterwarnings('ignore')"
   ]
  },
  {
   "cell_type": "code",
   "execution_count": 391,
   "metadata": {
    "execution": {
     "iopub.execute_input": "2020-08-28T08:07:54.624168Z",
     "iopub.status.busy": "2020-08-28T08:07:54.623397Z",
     "iopub.status.idle": "2020-08-28T08:07:54.633747Z",
     "shell.execute_reply": "2020-08-28T08:07:54.632950Z"
    },
    "papermill": {
     "duration": 0.028353,
     "end_time": "2020-08-28T08:07:54.633875",
     "exception": false,
     "start_time": "2020-08-28T08:07:54.605522",
     "status": "completed"
    },
    "tags": []
   },
   "outputs": [
    {
     "data": {
      "text/plain": [
       "<torch._C.Generator at 0x7ff6d4b48fb0>"
      ]
     },
     "execution_count": 391,
     "metadata": {},
     "output_type": "execute_result"
    }
   ],
   "source": [
    "# for reproducibility\n",
    "torch.manual_seed(0)"
   ]
  },
  {
   "cell_type": "code",
   "execution_count": 392,
   "metadata": {
    "execution": {
     "iopub.execute_input": "2020-08-28T08:08:09.140842Z",
     "iopub.status.busy": "2020-08-28T08:08:09.139777Z",
     "iopub.status.idle": "2020-08-28T08:08:09.143087Z",
     "shell.execute_reply": "2020-08-28T08:08:09.142330Z"
    },
    "id": "KCx7r6Vr-U9m",
    "papermill": {
     "duration": 0.024659,
     "end_time": "2020-08-28T08:08:09.143239",
     "exception": false,
     "start_time": "2020-08-28T08:08:09.118580",
     "status": "completed"
    },
    "tags": []
   },
   "outputs": [],
   "source": [
    "# Defining transform to resize 1024x1024 to 128x128\n",
    "# To change to Tensor\n",
    "train_transform=transforms.Compose([\n",
    "                              transforms.Resize([64,64]),\n",
    "                              transforms.ToTensor()\n",
    "])\n",
    "test_transform=transforms.Compose([\n",
    "                              transforms.Resize([64,64]),\n",
    "                              transforms.ToTensor()\n",
    "])"
   ]
  },
  {
   "cell_type": "code",
   "execution_count": 393,
   "metadata": {
    "execution": {
     "iopub.execute_input": "2020-08-28T08:10:00.702902Z",
     "iopub.status.busy": "2020-08-28T08:10:00.702153Z",
     "iopub.status.idle": "2020-08-28T08:10:00.707873Z",
     "shell.execute_reply": "2020-08-28T08:10:00.707094Z"
    },
    "id": "-jtP_H9Asa7V",
    "papermill": {
     "duration": 0.030285,
     "end_time": "2020-08-28T08:10:00.708034",
     "exception": false,
     "start_time": "2020-08-28T08:10:00.677749",
     "status": "completed"
    },
    "tags": []
   },
   "outputs": [],
   "source": [
    "test_path = \"../Datasets/Covid19-dataset/test/\"\n",
    "train_val_path=\"../Datasets/Covid19-dataset/train/\"\n",
    "\n",
    "dataset=ImageFolder(train_val_path,transform=train_transform)\n",
    "test_dataset=ImageFolder(test_path,transform=test_transform)"
   ]
  },
  {
   "cell_type": "code",
   "execution_count": 394,
   "metadata": {
    "execution": {
     "iopub.execute_input": "2020-08-28T08:08:09.303144Z",
     "iopub.status.busy": "2020-08-28T08:08:09.302040Z",
     "iopub.status.idle": "2020-08-28T08:08:09.431511Z",
     "shell.execute_reply": "2020-08-28T08:08:09.430336Z"
    },
    "id": "SGBWiQgDBDn6",
    "outputId": "dabb3d59-0a28-4b5f-85b5-80c55f95a4b4",
    "papermill": {
     "duration": 0.151641,
     "end_time": "2020-08-28T08:08:09.431714",
     "exception": false,
     "start_time": "2020-08-28T08:08:09.280073",
     "status": "completed"
    },
    "tags": []
   },
   "outputs": [],
   "source": [
    "# Checking For Samples\n",
    "# img0,label0=dataset[10]\n",
    "# print(img0.shape,label0)\n",
    "# # img1,label1=dataset[300]\n",
    "# # print(img1.shape,label1)\n",
    "# print(\"*\"*60)\n",
    "# print(dataset.classes)#list out all the classes"
   ]
  },
  {
   "cell_type": "code",
   "execution_count": 395,
   "metadata": {
    "execution": {
     "iopub.execute_input": "2020-08-28T08:08:09.471598Z",
     "iopub.status.busy": "2020-08-28T08:08:09.470709Z",
     "iopub.status.idle": "2020-08-28T08:08:09.729594Z",
     "shell.execute_reply": "2020-08-28T08:08:09.728930Z"
    },
    "id": "HwLW33rSBPrS",
    "outputId": "bc3589ba-31f4-4d9d-82b6-02d8bb6ade68",
    "papermill": {
     "duration": 0.281949,
     "end_time": "2020-08-28T08:08:09.729736",
     "exception": false,
     "start_time": "2020-08-28T08:08:09.447787",
     "status": "completed"
    },
    "tags": []
   },
   "outputs": [],
   "source": [
    "# def show(img,label):\n",
    "#   print(\"label-->\",dataset.classes[label])\n",
    "#   plt.imshow(img.permute(1,2,0))\n",
    "\n",
    "# show(*dataset[144])\n",
    "# 0-->Covid-19;1-->Normal"
   ]
  },
  {
   "cell_type": "code",
   "execution_count": 396,
   "metadata": {
    "execution": {
     "iopub.execute_input": "2020-08-28T08:08:09.802868Z",
     "iopub.status.busy": "2020-08-28T08:08:09.801824Z",
     "iopub.status.idle": "2020-08-28T08:08:09.805650Z",
     "shell.execute_reply": "2020-08-28T08:08:09.806483Z"
    },
    "id": "Es5w1er0E02y",
    "outputId": "56daccd4-ec71-4873-b285-debb150af684",
    "papermill": {
     "duration": 0.030309,
     "end_time": "2020-08-28T08:08:09.806686",
     "exception": false,
     "start_time": "2020-08-28T08:08:09.776377",
     "status": "completed"
    },
    "tags": []
   },
   "outputs": [
    {
     "name": "stdout",
     "output_type": "stream",
     "text": [
      "[207  31  48  52 245]\n"
     ]
    }
   ],
   "source": [
    "def split_train_val(tot_img,val_percentage=0.2,rnd=23):\n",
    "  # Here indices are randomly permuted \n",
    "  number_of_val=int(tot_img*val_percentage)\n",
    "  np.random.seed(rnd)\n",
    "  indexs=np.random.permutation(tot_img)\n",
    "  return indexs[number_of_val:],indexs[:number_of_val]\n",
    "\n",
    "randomness=12\n",
    "val_per=0.5\n",
    "train_indices,validation_indices=split_train_val(len(dataset),val_per,randomness)\n",
    "print(validation_indices[:5])"
   ]
  },
  {
   "cell_type": "code",
   "execution_count": 397,
   "metadata": {
    "execution": {
     "iopub.execute_input": "2020-08-28T08:08:09.886473Z",
     "iopub.status.busy": "2020-08-28T08:08:09.885645Z",
     "iopub.status.idle": "2020-08-28T08:08:09.889330Z",
     "shell.execute_reply": "2020-08-28T08:08:09.888535Z"
    },
    "id": "RymvterAO_5y",
    "papermill": {
     "duration": 0.026235,
     "end_time": "2020-08-28T08:08:09.889460",
     "exception": false,
     "start_time": "2020-08-28T08:08:09.863225",
     "status": "completed"
    },
    "tags": []
   },
   "outputs": [],
   "source": [
    "batch_size=16\n",
    "# Training Part\n",
    "train_sampler=SubsetRandomSampler(train_indices)\n",
    "train_ds=DataLoader(dataset,batch_size,sampler=train_sampler)\n",
    "\n",
    "# Validation Part\n",
    "val_sampler=SubsetRandomSampler(validation_indices)\n",
    "val_ds=DataLoader(dataset,batch_size,sampler=val_sampler)"
   ]
  },
  {
   "cell_type": "code",
   "execution_count": 398,
   "metadata": {
    "execution": {
     "iopub.execute_input": "2020-08-28T08:08:10.008897Z",
     "iopub.status.busy": "2020-08-28T08:08:10.004072Z",
     "iopub.status.idle": "2020-08-28T08:08:10.012554Z",
     "shell.execute_reply": "2020-08-28T08:08:10.011825Z"
    },
    "id": "NFS7I1Z-oQRq",
    "papermill": {
     "duration": 0.034261,
     "end_time": "2020-08-28T08:08:10.012688",
     "exception": false,
     "start_time": "2020-08-28T08:08:09.978427",
     "status": "completed"
    },
    "tags": []
   },
   "outputs": [],
   "source": [
    "class ConvNet(nn.Module):\n",
    "  def __init__(self):\n",
    "    super(ConvNet,self).__init__()\n",
    "    self.conv1=nn.Conv2d(in_channels=3,out_channels=8,kernel_size=3)\n",
    "    self.conv2=nn.Conv2d(in_channels=8,out_channels=16,kernel_size=3)\n",
    "    self.conv3=nn.Conv2d(in_channels=16,out_channels=32,kernel_size=3)\n",
    "    self.conv4=nn.Conv2d(in_channels=32,out_channels=16,kernel_size=3)\n",
    "    self.conv5=nn.Conv2d(in_channels=16,out_channels=8,kernel_size=3)\n",
    "    # self.conv6=nn.Conv2d(in_channels=8,out_channels=3,kernel_size=3)\n",
    "    # self.fc1=nn.Linear(in_features=8*31*31,out_features=32)\n",
    "    self.fc1=nn.Linear(in_features=8*27*27,out_features=32)\n",
    "    self.out=nn.Linear(in_features=32,out_features=3)\n",
    "\n",
    "  def forward(self,l):\n",
    "    l=self.conv1(l)\n",
    "    l=self.conv2(l)\n",
    "    l=self.conv3(l)\n",
    "    l=self.conv4(l)\n",
    "    l=self.conv5(l)\n",
    "    # l=self.conv6(l)\n",
    "    l=F.relu(l)\n",
    "    l=F.max_pool2d(l,kernel_size=2)\n",
    "    # print(l.size())\n",
    "    # l=l.reshape( -1,8*31*31)\n",
    "    l=l.view( -1,8*27*27)\n",
    "    l=self.fc1(l)\n",
    "    l=self.out(l)\n",
    "    \n",
    "    return l"
   ]
  },
  {
   "cell_type": "code",
   "execution_count": 399,
   "metadata": {
    "execution": {
     "iopub.execute_input": "2020-08-28T08:08:10.059368Z",
     "iopub.status.busy": "2020-08-28T08:08:10.058581Z",
     "iopub.status.idle": "2020-08-28T08:08:10.065796Z",
     "shell.execute_reply": "2020-08-28T08:08:10.065001Z"
    },
    "id": "yOL8s-SX_g3h",
    "papermill": {
     "duration": 0.036564,
     "end_time": "2020-08-28T08:08:10.065929",
     "exception": false,
     "start_time": "2020-08-28T08:08:10.029365",
     "status": "completed"
    },
    "tags": []
   },
   "outputs": [],
   "source": [
    "model=ConvNet()"
   ]
  },
  {
   "cell_type": "code",
   "execution_count": 400,
   "metadata": {
    "execution": {
     "iopub.execute_input": "2020-08-28T08:08:10.105398Z",
     "iopub.status.busy": "2020-08-28T08:08:10.104470Z",
     "iopub.status.idle": "2020-08-28T08:08:10.107865Z",
     "shell.execute_reply": "2020-08-28T08:08:10.107096Z"
    },
    "id": "yxKgnIIvq0og",
    "papermill": {
     "duration": 0.026002,
     "end_time": "2020-08-28T08:08:10.107991",
     "exception": false,
     "start_time": "2020-08-28T08:08:10.081989",
     "status": "completed"
    },
    "tags": []
   },
   "outputs": [],
   "source": [
    "# # If gpu present then use it or else use cpu\n",
    "# # if gpu not present dont run this cell\n",
    "# def default_device():\n",
    "    \n",
    "#     if torch.cuda.is_available():\n",
    "#         return torch.device(\"cuda:0\")\n",
    "#     else:\n",
    "#         return torch.device(\"cpu\")\n",
    "\n",
    "# # device=default_device()\n",
    "# device=torch.device(\"cpu\")\n",
    "# print(device)"
   ]
  },
  {
   "cell_type": "code",
   "execution_count": 401,
   "metadata": {
    "execution": {
     "iopub.execute_input": "2020-08-28T08:08:10.148434Z",
     "iopub.status.busy": "2020-08-28T08:08:10.147632Z",
     "iopub.status.idle": "2020-08-28T08:08:10.156442Z",
     "shell.execute_reply": "2020-08-28T08:08:10.155685Z"
    },
    "id": "L8VLyyaQtav2",
    "papermill": {
     "duration": 0.03234,
     "end_time": "2020-08-28T08:08:10.156568",
     "exception": false,
     "start_time": "2020-08-28T08:08:10.124228",
     "status": "completed"
    },
    "tags": []
   },
   "outputs": [
    {
     "data": {
      "text/plain": [
       "ConvNet(\n",
       "  (conv1): Conv2d(3, 8, kernel_size=(3, 3), stride=(1, 1))\n",
       "  (conv2): Conv2d(8, 16, kernel_size=(3, 3), stride=(1, 1))\n",
       "  (conv3): Conv2d(16, 32, kernel_size=(3, 3), stride=(1, 1))\n",
       "  (conv4): Conv2d(32, 16, kernel_size=(3, 3), stride=(1, 1))\n",
       "  (conv5): Conv2d(16, 8, kernel_size=(3, 3), stride=(1, 1))\n",
       "  (fc1): Linear(in_features=5832, out_features=32, bias=True)\n",
       "  (out): Linear(in_features=32, out_features=3, bias=True)\n",
       ")"
      ]
     },
     "execution_count": 401,
     "metadata": {},
     "output_type": "execute_result"
    }
   ],
   "source": [
    "# model.to(device)\n",
    "model"
   ]
  },
  {
   "cell_type": "code",
   "execution_count": 402,
   "metadata": {
    "execution": {
     "iopub.execute_input": "2020-08-28T08:08:10.200527Z",
     "iopub.status.busy": "2020-08-28T08:08:10.199548Z",
     "iopub.status.idle": "2020-08-28T08:08:10.202865Z",
     "shell.execute_reply": "2020-08-28T08:08:10.202143Z"
    },
    "id": "2ghlTY54phtk",
    "papermill": {
     "duration": 0.029418,
     "end_time": "2020-08-28T08:08:10.202996",
     "exception": false,
     "start_time": "2020-08-28T08:08:10.173578",
     "status": "completed"
    },
    "tags": []
   },
   "outputs": [],
   "source": [
    "loss_type = nn.CrossEntropyLoss()\n",
    "optimizer = optim.Adam(model.parameters(), lr=0.05)"
   ]
  },
  {
   "cell_type": "code",
   "execution_count": 403,
   "metadata": {
    "execution": {
     "iopub.execute_input": "2020-08-28T08:08:10.250912Z",
     "iopub.status.busy": "2020-08-28T08:08:10.249964Z",
     "iopub.status.idle": "2020-08-28T08:09:47.337095Z",
     "shell.execute_reply": "2020-08-28T08:09:47.336437Z"
    },
    "id": "qDBty2msr3Ng",
    "papermill": {
     "duration": 97.117764,
     "end_time": "2020-08-28T08:09:47.337243",
     "exception": false,
     "start_time": "2020-08-28T08:08:10.219479",
     "status": "completed"
    },
    "tags": []
   },
   "outputs": [
    {
     "name": "stdout",
     "output_type": "stream",
     "text": [
      "Epoch: 0 Running Loss: 426629.84639918804  Accuracy: 42.06349182128906\n",
      "Epoch: 1 Running Loss: 64836.203753352165  Accuracy: 22.22222137451172\n",
      "Epoch: 2 Running Loss: 13.498910427093506  Accuracy: 30.952381134033203\n",
      "Epoch: 3 Running Loss: 11.237679600715637  Accuracy: 42.06349182128906\n",
      "Epoch: 4 Running Loss: 8.997650265693665  Accuracy: 37.30158615112305\n",
      "Epoch: 5 Running Loss: 9.272973477840424  Accuracy: 26.984127044677734\n",
      "Epoch: 6 Running Loss: 9.001324653625488  Accuracy: 42.06349182128906\n",
      "Epoch: 7 Running Loss: 8.697757482528687  Accuracy: 42.06349182128906\n",
      "Epoch: 8 Running Loss: 8.838252186775208  Accuracy: 30.158729553222656\n",
      "Epoch: 9 Running Loss: 8.755673468112946  Accuracy: 42.06349182128906\n",
      "Epoch: 10 Running Loss: 8.733115673065186  Accuracy: 42.06349182128906\n",
      "Epoch: 11 Running Loss: 8.651498436927795  Accuracy: 42.06349182128906\n"
     ]
    },
    {
     "data": {
      "text/plain": [
       "<matplotlib.legend.Legend at 0x7ff5e07db820>"
      ]
     },
     "execution_count": 403,
     "metadata": {},
     "output_type": "execute_result"
    },
    {
     "data": {
      "image/png": "[encoded data removed]",
      "text/plain": [
       "<Figure size 640x480 with 1 Axes>"
      ]
     },
     "metadata": {},
     "output_type": "display_data"
    }
   ],
   "source": [
    "\n",
    "loss_val=[]\n",
    "acc=[]\n",
    "for epoch in range(12):  \n",
    "# loop over the dataset multiple times\n",
    "    # print(\"Epoch count-->\",epoch)\n",
    "    running_loss=0.0\n",
    "    right = 0\n",
    "    total = 0\n",
    "    for i, data in enumerate(train_ds):\n",
    "        inputs, labels = data\n",
    "        # inputs,labels=inputs.to(device),labels.to(device)\n",
    "        # zero the parameter gradients\n",
    "        optimizer.zero_grad()\n",
    "        # Passing input into the model\n",
    "        outputs = model(inputs)        \n",
    "        # Caculating loss with crossentropy\n",
    "        loss = loss_type(outputs, labels)\n",
    "        # calculates the gradient \n",
    "        loss.backward()\n",
    "        # update the weights\n",
    "        optimizer.step()\n",
    "        \n",
    "        running_loss=running_loss+loss.item()\n",
    "        _, predicted = torch.max(outputs,dim=1)\n",
    "        total += labels.size(0)\n",
    "        # Caculating number of right prediction\n",
    "        right += (predicted == labels).sum()\n",
    "        # running_loss=running_loss+loss.item()* inputs.size(0)\n",
    "    print(\"Epoch:\",epoch,\"Running Loss:\",running_loss,\" Accuracy:\",(100 * right / total).item())\n",
    "    loss_val.append(running_loss / len(train_ds))\n",
    "    acc.append((100 * right / total).item())\n",
    "plt.plot(loss_val,label=\"loss\")\n",
    "plt.legend()"
   ]
  },
  {
   "cell_type": "code",
   "execution_count": 404,
   "metadata": {
    "execution": {
     "iopub.execute_input": "2020-08-28T08:09:47.383228Z",
     "iopub.status.busy": "2020-08-28T08:09:47.382059Z",
     "iopub.status.idle": "2020-08-28T08:09:54.423833Z",
     "shell.execute_reply": "2020-08-28T08:09:54.422951Z"
    },
    "id": "kkgeIr2zWPCN",
    "papermill": {
     "duration": 7.069173,
     "end_time": "2020-08-28T08:09:54.424000",
     "exception": false,
     "start_time": "2020-08-28T08:09:47.354827",
     "status": "completed"
    },
    "tags": []
   },
   "outputs": [
    {
     "name": "stdout",
     "output_type": "stream",
     "text": [
      "Accuracy on the validation images: 46 %\n"
     ]
    }
   ],
   "source": [
    "right = 0\n",
    "total = 0\n",
    "\n",
    "with torch.no_grad():\n",
    "# Switching off the gradient part, so that backpropagation doesnt take place\n",
    "    for data in val_ds:\n",
    "        images, labels = data\n",
    "        #images,labels=images,labels\n",
    "        # inputs,labels=inputs.to(device),labels.to(device)\n",
    "        outputs = model(images)\n",
    "        \n",
    "        _, predicted = torch.max(outputs,dim=1)\n",
    "        total += labels.size(0)\n",
    "        # Caculating number of right prediction\n",
    "        right += (predicted == labels).sum()\n",
    "        \n",
    "print('Accuracy on the validation images: %d %%' % (100 * right / total))"
   ]
  },
  {
   "cell_type": "code",
   "execution_count": 405,
   "metadata": {
    "execution": {
     "iopub.execute_input": "2020-08-28T08:10:01.002572Z",
     "iopub.status.busy": "2020-08-28T08:10:01.001425Z",
     "iopub.status.idle": "2020-08-28T08:10:01.005021Z",
     "shell.execute_reply": "2020-08-28T08:10:01.004270Z"
    },
    "id": "DNBwBPu-sz8t",
    "papermill": {
     "duration": 0.030051,
     "end_time": "2020-08-28T08:10:01.005160",
     "exception": false,
     "start_time": "2020-08-28T08:10:00.975109",
     "status": "completed"
    },
    "tags": []
   },
   "outputs": [],
   "source": [
    "batch_size=32\n",
    "# Training Part\n",
    "test_ds=DataLoader(test_dataset,batch_size)"
   ]
  },
  {
   "cell_type": "code",
   "execution_count": 406,
   "metadata": {
    "execution": {
     "iopub.execute_input": "2020-08-28T08:10:01.055401Z",
     "iopub.status.busy": "2020-08-28T08:10:01.053753Z",
     "iopub.status.idle": "2020-08-28T08:10:12.332801Z",
     "shell.execute_reply": "2020-08-28T08:10:12.333699Z"
    },
    "id": "8kGw6HCgszoC",
    "papermill": {
     "duration": 11.309312,
     "end_time": "2020-08-28T08:10:12.333947",
     "exception": false,
     "start_time": "2020-08-28T08:10:01.024635",
     "status": "completed"
    },
    "tags": []
   },
   "outputs": [
    {
     "name": "stdout",
     "output_type": "stream",
     "text": [
      "Accuracy on the Test images: 39 %\n"
     ]
    }
   ],
   "source": [
    "right_test = 0\n",
    "total_test = 0\n",
    "with torch.no_grad():\n",
    "    for data in test_ds:\n",
    "        images, labels_test = data\n",
    "        # images,labels_test=images.to(device),labels_test.to(device)\n",
    "        #images,labels_test=images,labels_test\n",
    "        outputs_test = model(images)\n",
    "        _, predicted_test = torch.max(outputs_test, 1)\n",
    "        total_test += labels_test.size(0)\n",
    "        right_test += (predicted_test == labels_test).sum()\n",
    "\n",
    "print('Accuracy on the Test images: %d %%' % (\n",
    "    100 * right_test / total_test))"
   ]
  }
 ],
 "metadata": {
  "kernelspec": {
   "display_name": "Python 3",
   "language": "python",
   "name": "python3"
  },
  "language_info": {
   "codemirror_mode": {
    "name": "ipython",
    "version": 3
   },
   "file_extension": ".py",
   "mimetype": "text/x-python",
   "name": "python",
   "nbconvert_exporter": "python",
   "pygments_lexer": "ipython3",
   "version": "3.10.6"
  },
  "papermill": {
   "duration": 144.506994,
   "end_time": "2020-08-28T08:10:12.587631",
   "environment_variables": {},
   "exception": null,
   "input_path": "__notebook__.ipynb",
   "output_path": "__notebook__.ipynb",
   "parameters": {},
   "start_time": "2020-08-28T08:07:48.080637",
   "version": "2.1.0"
  }
 },
 "nbformat": 4,
 "nbformat_minor": 4
}
