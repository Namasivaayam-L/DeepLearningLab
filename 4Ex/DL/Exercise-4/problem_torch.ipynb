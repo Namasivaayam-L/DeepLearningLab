{
 "cells": [
  {
   "cell_type": "code",
   "execution_count": 23,
   "metadata": {},
   "outputs": [],
   "source": [
    "import torch\n",
    "import torch.nn as nn\n",
    "import torch.optim as optim\n",
    "import numpy as np"
   ]
  },
  {
   "cell_type": "code",
   "execution_count": 24,
   "metadata": {},
   "outputs": [],
   "source": [
    "class KSOM(nn.Module):\n",
    "    def __init__(self, input_dim, output_dim, learning_rate, weights):\n",
    "        super(KSOM, self).__init__()\n",
    "\n",
    "        self.input_dim = input_dim\n",
    "        self.output_dim = output_dim\n",
    "\n",
    "        self.learning_rate = learning_rate\n",
    "        \n",
    "        self.weights = nn.Parameter(weights)\n",
    "\n",
    "    def forward(self, x):\n",
    "    \n",
    "        x = x.view(-1, self.input_dim)\n",
    "        distances = torch.sum((self.weights - x.unsqueeze(1)) ** 2, dim=-1)\n",
    "        winner = torch.argmin(distances, dim=1)#used to return the index of the minimum value of all elements in the input tensor.\n",
    "        \n",
    "        delta = x.unsqueeze(1)+self.learning_rate * (x.unsqueeze(1) - self.weights)\n",
    "        self.weights.data[winner] += torch.sum(delta, dim=0)[winner]\n",
    "        print(self.weights.data[winner])\n",
    "        return winner"
   ]
  },
  {
   "cell_type": "code",
   "execution_count": 25,
   "metadata": {},
   "outputs": [],
   "source": [
    "x = torch.tensor([0.0, 0.2, 0.1, 0.2, 0.0])\n",
    "\n",
    "weights = torch.tensor([\n",
    "    [1.0, 0.9, 0.7, 0.3, 0.2],\n",
    "    [0.6, 0.7, 0.5, 0.4, 1.0],\n",
    "])"
   ]
  },
  {
   "cell_type": "code",
   "execution_count": 26,
   "metadata": {},
   "outputs": [
    {
     "name": "stdout",
     "output_type": "stream",
     "text": [
      "tensor([[0.4800, 0.8000, 0.5200, 0.5600, 0.8000]])\n",
      "Winning cluster unit: tensor([1])\n",
      "Updated weights: Parameter containing:\n",
      "tensor([[1.0000, 0.9000, 0.7000, 0.3000, 0.2000],\n",
      "        [0.4800, 0.8000, 0.5200, 0.5600, 0.8000]], requires_grad=True)\n"
     ]
    }
   ],
   "source": [
    "ksom = KSOM(input_dim=5, output_dim=2, learning_rate=0.2, weights=weights)\n",
    "\n",
    "\n",
    "winner = ksom(x)\n",
    "print(\"Winning cluster unit:\", winner)\n",
    "\n",
    "\n",
    "print(\"Updated weights:\", ksom.weights)"
   ]
  },
  {
   "cell_type": "code",
   "execution_count": 27,
   "metadata": {},
   "outputs": [
    {
     "name": "stdout",
     "output_type": "stream",
     "text": [
      "Updated learning rate: 0.1\n"
     ]
    }
   ],
   "source": [
    "print(\"Updated learning rate:\",0.5*ksom.learning_rate)"
   ]
  },
  {
   "cell_type": "code",
   "execution_count": 28,
   "metadata": {},
   "outputs": [],
   "source": [
    "y = torch.tensor([0.1, 0.3, 0.1, 0.4, 0.2])\n",
    "\n",
    "weights = torch.tensor([\n",
    "    [5.0, 0.7, 0.4, 0.2, 0.5],\n",
    "    [0.8, 0.9, 0.3, 0.6, 2.0],\n",
    "])"
   ]
  },
  {
   "cell_type": "code",
   "execution_count": 29,
   "metadata": {},
   "outputs": [
    {
     "name": "stdout",
     "output_type": "stream",
     "text": [
      "tensor([[0.7600, 1.0800, 0.3600, 0.9600, 1.8400]])\n",
      "Winning cluster unit: tensor([1])\n",
      "Updated weights: Parameter containing:\n",
      "tensor([[5.0000, 0.7000, 0.4000, 0.2000, 0.5000],\n",
      "        [0.7600, 1.0800, 0.3600, 0.9600, 1.8400]], requires_grad=True)\n"
     ]
    }
   ],
   "source": [
    "ksom = KSOM(input_dim=5, output_dim=2, learning_rate=0.2, weights=weights)\n",
    "\n",
    "\n",
    "winner = ksom(y)\n",
    "print(\"Winning cluster unit:\", winner)\n",
    "\n",
    "\n",
    "print(\"Updated weights:\", ksom.weights)"
   ]
  },
  {
   "cell_type": "code",
   "execution_count": 30,
   "metadata": {},
   "outputs": [
    {
     "name": "stdout",
     "output_type": "stream",
     "text": [
      "Updated learning rate: 0.1\n"
     ]
    }
   ],
   "source": [
    "print(\"Updated learning rate:\",0.5*ksom.learning_rate)"
   ]
  }
 ],
 "metadata": {
  "kernelspec": {
   "display_name": "Python 3",
   "language": "python",
   "name": "python3"
  },
  "language_info": {
   "codemirror_mode": {
    "name": "ipython",
    "version": 3
   },
   "file_extension": ".py",
   "mimetype": "text/x-python",
   "name": "python",
   "nbconvert_exporter": "python",
   "pygments_lexer": "ipython3",
   "version": "3.9.2 (default, Feb 28 2021, 17:03:44) \n[GCC 10.2.1 20210110]"
  },
  "orig_nbformat": 4,
  "vscode": {
   "interpreter": {
    "hash": "916dbcbb3f70747c44a77c7bcd40155683ae19c65e1c03b4aa3499c5328201f1"
   }
  }
 },
 "nbformat": 4,
 "nbformat_minor": 2
}
