{
 "cells": [
  {
   "cell_type": "code",
   "execution_count": 92,
   "metadata": {},
   "outputs": [],
   "source": [
    "import torch\n",
    "import torch.nn as nn\n",
    "import torch.optim as optim\n",
    "import numpy as np\n",
    "import torchvision.transforms as transforms"
   ]
  },
  {
   "cell_type": "code",
   "execution_count": 93,
   "metadata": {},
   "outputs": [],
   "source": [
    "class KSOM(nn.Module):\n",
    "    def __init__(self, input_dim, output_dim, learning_rate, weights):\n",
    "        super(KSOM, self).__init__()\n",
    "        self.fc1 = nn.Linear(32*32*3,100)\n",
    "        self.fc2 = nn.Linear(100,32*32*3)\n",
    "        # self.fc2 = nn.Linear(100,10)\n",
    "        self.relu = nn.ReLU()\n",
    "        self.softmax = nn.LogSoftmax(dim=1)\n",
    "        self.input_dim = input_dim\n",
    "        self.output_dim = output_dim\n",
    "\n",
    "        self.learning_rate = learning_rate\n",
    "        self.sigma = output_dim / 2\n",
    "        self.weights = nn.Parameter(weights)\n",
    "\n",
    "    def forward(self, x):\n",
    "        x = self.fc1(x)\n",
    "        x = self.fc2(x)\n",
    "        x = self.relu(x)\n",
    "        x = self.softmax(x)\n",
    "        x = x.view(-1, 32*32*3)\n",
    "        # print(self.weights.shape,x.unsqueeze(1).shape)\n",
    "        distances = torch.sum((self.weights - x.unsqueeze(1)) ** 2, dim=-1)\n",
    "        winner = torch.argmin(distances, dim=1)\n",
    "        neighborhood = torch.exp(-distances / (2 * self.sigma ** 2))\n",
    "        delta = self.learning_rate * neighborhood.unsqueeze(-1) * (x.unsqueeze(1) - self.weights)\n",
    "        self.weights.data[winner] += torch.sum(delta, dim=0)[winner]\n",
    "        # print(winner.size())\n",
    "        return winner"
   ]
  },
  {
   "cell_type": "code",
   "execution_count": 94,
   "metadata": {},
   "outputs": [],
   "source": [
    "transform = transforms.Compose([\n",
    "    transforms.Resize((32, 32)),\n",
    "    transforms.ToTensor(),\n",
    "    transforms.Normalize((0.5,), (0.5,))\n",
    "])"
   ]
  },
  {
   "cell_type": "code",
   "execution_count": 95,
   "metadata": {},
   "outputs": [],
   "source": [
    "import torchvision.datasets as datasets"
   ]
  },
  {
   "cell_type": "code",
   "execution_count": 96,
   "metadata": {},
   "outputs": [],
   "source": [
    "dataset = datasets.CIFAR10(root='./data', train=True, download=False, transform=transform)"
   ]
  },
  {
   "cell_type": "code",
   "execution_count": 97,
   "metadata": {},
   "outputs": [],
   "source": [
    "dataloader = torch.utils.data.DataLoader(dataset, batch_size=32, shuffle=True)"
   ]
  },
  {
   "cell_type": "code",
   "execution_count": 98,
   "metadata": {},
   "outputs": [],
   "source": [
    "ksom = KSOM(input_dim=32*32*3, output_dim=10, learning_rate=0.1, weights=torch.rand(10,32*32*3))\n",
    "# print(ksom)\n",
    "# ksom.load_state_dict(torch.load('./ksomCIFAR.pth'))"
   ]
  },
  {
   "cell_type": "code",
   "execution_count": 99,
   "metadata": {},
   "outputs": [],
   "source": [
    "num_epochs=5"
   ]
  },
  {
   "cell_type": "code",
   "execution_count": 100,
   "metadata": {},
   "outputs": [],
   "source": [
    "import torch.optim as optim\n",
    "\n",
    "optimizer = optim.SGD(ksom.parameters(), lr=0.1)"
   ]
  },
  {
   "cell_type": "code",
   "execution_count": 101,
   "metadata": {},
   "outputs": [
    {
     "name": "stdout",
     "output_type": "stream",
     "text": [
      "Epoch 1: loss=1.1541579961776733\n",
      "Epoch 2: loss=0.7707021236419678\n",
      "Epoch 3: loss=0.7693989276885986\n",
      "Epoch 4: loss=0.7894042134284973\n",
      "Epoch 5: loss=0.8451470732688904\n",
      "Finished Training\n",
      "Parameter containing:\n",
      "tensor([[0.6331, 0.6483, 0.3936,  ..., 0.4617, 0.6844, 0.4543],\n",
      "        [0.6907, 0.3962, 0.2816,  ..., 0.6596, 0.4473, 0.0265],\n",
      "        [0.2398, 0.7034, 0.5666,  ..., 0.6983, 0.2708, 0.3242],\n",
      "        ...,\n",
      "        [0.0370, 0.4914, 0.5477,  ..., 0.0996, 0.6905, 0.5493],\n",
      "        [0.0843, 0.1876, 0.5059,  ..., 0.1204, 0.6342, 0.3960],\n",
      "        [0.5489, 0.1323, 0.5134,  ..., 0.0376, 0.6469, 0.6547]],\n",
      "       requires_grad=True)\n"
     ]
    }
   ],
   "source": [
    "for epoch in range(num_epochs):\n",
    "    for i, data in enumerate(dataloader, 0):\n",
    "        inputs, _ = data\n",
    "        optimizer.zero_grad()\n",
    "        inputs = inputs.view(-1,32*32*3)\n",
    "        winner = ksom(inputs)\n",
    "        # print(ksom.weights.size(),inputs.size())\n",
    "        loss = torch.mean(torch.sum((ksom.weights - inputs.unsqueeze(1)) ** 6, dim=-1))\n",
    "        loss=loss/5000\n",
    "        loss.backward()\n",
    "        optimizer.step()\n",
    "    print(f\"Epoch {epoch+1}: loss={loss.item()}\")\n",
    "\n",
    "print('Finished Training')\n",
    "print(ksom.weights)"
   ]
  },
  {
   "cell_type": "code",
   "execution_count": 102,
   "metadata": {},
   "outputs": [],
   "source": [
    "torch.save(ksom.state_dict(), './ksomCIFAR.pth')"
   ]
  }
 ],
 "metadata": {
  "kernelspec": {
   "display_name": "Python 3",
   "language": "python",
   "name": "python3"
  },
  "language_info": {
   "codemirror_mode": {
    "name": "ipython",
    "version": 3
   },
   "file_extension": ".py",
   "mimetype": "text/x-python",
   "name": "python",
   "nbconvert_exporter": "python",
   "pygments_lexer": "ipython3",
   "version": "3.10.6"
  },
  "orig_nbformat": 4,
  "vscode": {
   "interpreter": {
    "hash": "916dbcbb3f70747c44a77c7bcd40155683ae19c65e1c03b4aa3499c5328201f1"
   }
  }
 },
 "nbformat": 4,
 "nbformat_minor": 2
}
